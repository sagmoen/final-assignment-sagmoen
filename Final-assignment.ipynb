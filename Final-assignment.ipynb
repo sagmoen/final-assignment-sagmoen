{
 "cells": [
  {
   "cell_type": "markdown",
   "metadata": {},
   "source": [
    "## Final Assignment "
   ]
  },
  {
   "cell_type": "markdown",
   "metadata": {},
   "source": [
    "#### Part 1 and 2\n",
    "1. The first part of AccessViz finds the from the data/TravelTimes folder the traveltimes-text files the user specifies with by YKR_ID in the YKR_ID_list in the start of the code.\n",
    "\n",
    "2. After finding the specified traveltimes-txt files, this code reads the files and stores them into a folder data/shapefiles. The shapefiles are named the YKR_ID of the file. (eg. 5878087.shp)\n"
   ]
  },
  {
   "cell_type": "code",
   "execution_count": 67,
   "metadata": {},
   "outputs": [
    {
     "data": {
      "text/plain": [
       "{'proj': 'utm', 'zone': 35, 'ellps': 'GRS80', 'units': 'm', 'no_defs': True}"
      ]
     },
     "execution_count": 67,
     "metadata": {},
     "output_type": "execute_result"
    }
   ],
   "source": [
    "import geopandas as gpd\n",
    "import pandas as pd\n",
    "import os\n",
    "\n",
    "#read and take a look at the YKR_grid shp file \n",
    "grid_fp = 'data/MetropAccess_YKR_grid/MetropAccess_YKR_grid_EurefFIN.shp'\n",
    "\n",
    "#read the file\n",
    "grid = gpd.read_file(grid_fp)\n",
    "\n",
    "# Change the name of YKR_ID to from_id, to enable the join\n",
    "grid.rename(columns={'YKR_ID': 'from_id'}, inplace=True)\n",
    "\n",
    "# See the column names and confirm that we now have a column called 'from_id'\n",
    "grid.head()\n",
    "grid.crs"
   ]
  },
  {
   "cell_type": "markdown",
   "metadata": {},
   "source": [
    "1. This first part of the code finds all the textfiles in the data/TravelTime folder, and then store each of the traveltime modes into a shapefile named the YKR_ID number of the file. <br />\n",
    "\n",
    "2. The user has to specify which YKR_IDs she/he wants to use in YKR_ID, where it says \"specify YKR_IDs here!\"<br />\n",
    "\n",
    "3. The rest of the code reads in the .txt-files to pandad dataframe, converst it into a geopandas dataframe and stores each of the geodataframes into shapefiles called the YKR_ID number of the text file. \n",
    "\n",
    "4. I tried to write the code in a way that would say if the YKR_ID did not exist in the data/TravelTime-folder. My code would not work when I tried that, so i decided to leave it out, in order to make the code work. At the bottom of this markadown cell is the code I used for trying. I am pretty sure that the error is in how I coded the 'if'-statement, and I tried different ways, but non of the worked.\n",
    "\n",
    "5. I also did not manage to write my code in a way that would inform the user about how the progression in the reading of files is going.\n",
    "\n",
    "```\n",
    "for YKR_ID in YKR_IDs: \n",
    "    #create path where the file is found\n",
    "    path = ('data/TravelTimes/travel_times_to_')\n",
    "    #create empty list where the filepath coresponding to YKR_ID-list can be stored.\n",
    "    fp_list = []\n",
    "    #create filepaths\n",
    "    filepath = os.path.join(path + YKR_ID + '.txt')\n",
    "    #append filepaths to the fp_list.\n",
    "    fp_list.append(filepath)\n",
    "    #print(fp_list)\n",
    "    ```\n",
    "```        \n",
    "    #iterate over the filepaths stored in the fp_list\n",
    "    for idx, fp in enumerate(fp_list):\n",
    "        print(fp) \n",
    "    ```\n",
    "\n",
    "```\n",
    "'''if filepath does not exist in folder, print that the the filepath does not exist in the folder'''\n",
    "        if fp is not in filepaths:\n",
    "             print('This YKR_ID does not exist in folder')\n",
    "             ```\n",
    "```                \n",
    "'''if the filepath exists in the filepaths list over files in the folder, create this into a dataframe'''\n",
    "        else:\n",
    "        data_ = pd.read_csv(fp, sep=';', usecols = ['from_id', 'pt_r_t'])\n",
    "        print(data_.head())\n",
    "```"
   ]
  },
  {
   "cell_type": "code",
   "execution_count": 2,
   "metadata": {},
   "outputs": [],
   "source": [
    "#specify YKR_IDs here!\n",
    "YKR_ID_list = ['5975373', '5878087']"
   ]
  },
  {
   "cell_type": "code",
   "execution_count": 3,
   "metadata": {},
   "outputs": [],
   "source": [
    "import glob\n",
    "import os\n",
    "import geopandas as gpd\n",
    "import pandas as pd\n",
    "\n",
    "#find all txt files in data/TravelTimes folder\n",
    "all_filepaths = glob.glob('data/TravelTimes/*.txt')\n",
    "#print(filepaths)\n",
    "\n",
    "#list of YKR_IDs I want to import: \n",
    "YKR_IDs = YKR_ID_list\n",
    "\n",
    "#Find filepaths for files specified in YKR_IDs \n",
    "for YKR_ID in YKR_IDs: \n",
    "    #create path where the file is found\n",
    "    path = ('data/TravelTimes/travel_times_to_')\n",
    "    #create empty list where the filepath coresponding to YKR_ID-list can be stored.\n",
    "    fp_list = []\n",
    "    #create filepaths\n",
    "    filepath = os.path.join(path + YKR_ID + '.txt')\n",
    "    #append filepaths to the fp_list.\n",
    "    fp_list.append(filepath)\n",
    "    #print(fp_list)"
   ]
  },
  {
   "cell_type": "code",
   "execution_count": null,
   "metadata": {},
   "outputs": [],
   "source": [
    "    #iterate over the filepaths stored in the fp_list\n",
    "    for idx, fp in enumerate(fp_list):\n",
    "        #print(fp)\n",
    "        \n",
    "        #read the data to dataframe\n",
    "        data_ = pd.read_csv(fp, sep=';')\n",
    "        #print(data_.head())\n",
    "        \n",
    "        #merge data_ (pd) and grid(gpd) together on 'from_id'  \n",
    "        data = grid.merge(data_, on='from_id')\n",
    "        #data.head()\n",
    "   \n",
    "        #set CRS\n",
    "        CRS = grid.crs\n",
    "\n",
    "        #make in into a geodataframe\n",
    "        travel_times = gpd.GeoDataFrame(data, crs=CRS, geometry ='geometry')\n",
    "        print(travel_times.crs)\n",
    "        \n",
    "        #check the output\n",
    "        #print(travel_times.head())  \n",
    "        \n",
    "        #save the geodataframes into shapefiles called the YKR_ID.shp in the folder shapefiles in data folder.\n",
    "        for travel_time in travel_times.iterrows():\n",
    "            #print(travel_time)\n",
    "            # Create a output path for the data\n",
    "            out_p = ('data/shapefiles/') \n",
    "            out_fp = os.path.join(out_p + YKR_ID + '.shp')\n",
    "            travel_times.to_file(out_fp)"
   ]
  },
  {
   "cell_type": "code",
   "execution_count": null,
   "metadata": {},
   "outputs": [],
   "source": [
    "travel_times.crs"
   ]
  },
  {
   "cell_type": "markdown",
   "metadata": {},
   "source": [
    "#### PART 3: \n",
    "visualize the travel times of selected YKR_IDs based on the travel mode that the user specifies. It can save those maps into a folder that user specifies. The output maps can be either static or interactive and user can choose which one with a parameter. You can freely design yourself the style of the map, colors, travel time intervals (classes) etc. Try to make the map as informative as possible!\n"
   ]
  },
  {
   "cell_type": "markdown",
   "metadata": {},
   "source": [
    "The user also has to specify which TravelTime column she/he wants to use, where it says \"specify traveltime mode here\". Or else the 'pt_r_t'(public transport, rushour, time) will be used by default. <br />"
   ]
  },
  {
   "cell_type": "code",
   "execution_count": 58,
   "metadata": {},
   "outputs": [
    {
     "name": "stdout",
     "output_type": "stream",
     "text": [
      "['data/shapefiles/5975373.shp', 'data/shapefiles/5878087.shp']\n"
     ]
    }
   ],
   "source": [
    "import glob\n",
    "import os\n",
    "import folium\n",
    "import geopandas as gpd\n",
    "import pandas as pd\n",
    "import matplotlib.pyplot as plt\n",
    "import contextily as ctx\n",
    "%matplotlib inline\n",
    "\n",
    "shp_files = glob.glob('data/shapefiles/*.shp')\n",
    "print(shp_files)\n"
   ]
  },
  {
   "cell_type": "code",
   "execution_count": 62,
   "metadata": {},
   "outputs": [],
   "source": [
    "#SPECIFY COLUMN YOU WOULD LIKE TO VISUALISE HERE\n",
    "column_for_visualising = \"pt_r_t\"\n",
    "\n",
    "#Static or interactive. Replace 0 with 1 if interactive, static by default. \n",
    "map_type = 1\n"
   ]
  },
  {
   "cell_type": "code",
   "execution_count": 66,
   "metadata": {},
   "outputs": [],
   "source": [
    "CRS = grid.crs\n",
    "\n",
    "for idx, fp in enumerate(shp_files):\n",
    "    #print(fp)\n",
    "    shp_data = gpd.read_file(fp, crs=CRS )\n",
    "    #print(shp_data.head())\n",
    "    \n",
    "    if map_type > 0:\n",
    "        #create interactive map\n",
    "        # Re-project to WGS84\n",
    "        shp_data = shp_data.to_crs(epsg=4326)\n",
    "        shp_data.crs\n",
    "\n",
    "        # Create a Geo-id which is needed by the Folium (it needs to have a unique identifier for each row)\n",
    "        shp_data['geoid'] = shp_data.index.astype(str)\n",
    "\n",
    "        # Select only needed columns\n",
    "        shp_data = shp_data[['geoid', column_for_visualising, 'geometry']]\n",
    "        \n",
    "        # Create a Map instance\n",
    "        int_map = folium.Map(location=[60.25, 24.8], tiles = 'cartodbpositron', zoom_start=10, control_scale=True)\n",
    "        \n",
    "        # Plot a choropleth map\n",
    "        int_map.choropleth(\n",
    "            geo_data=shp_data,\n",
    "            name='Population in 2017',\n",
    "            data=shp_data,\n",
    "            columns=['geoid', column_for_visualising, 'geometry'],\n",
    "            key_on='feature.id',\n",
    "            fill_color='YlOrRd',\n",
    "            fill_opacity=0.7,\n",
    "            line_opacity=0.2,\n",
    "            line_color='white',\n",
    "            line_weight=0,\n",
    "            highlight=False,\n",
    "            smooth_factor=1.0,\n",
    "            #threshold_scale=[100, 250, 500, 1000, 2000],\n",
    "            legend_name='Traveltimes to chosen YKR_ID')\n",
    "        #checking the output\n",
    "        int_map\n",
    "        \n",
    "        #saving the map\n",
    "        out_p_im = ('data/maps')\n",
    "        out_fp_im = os.path.join(out_p_m + YKR_ID + '.html')\n",
    "        int_map.save(out_fp_im)\n",
    "\n",
    "       \n",
    "\n",
    "    else:\n",
    "        #create static map using matplotlib.plt\n",
    "        static_map = shp_data.plot(column=column_for_visualising, linewidth=0.03, cmap=\"Reds\", scheme=\"quantiles\", k=7, alpha=0.9, legend=True)\n",
    "    \n",
    "        #get legend and place it at the map\n",
    "        static_map.get_legend().set_title(\"Minutes with transport to YKR_ID by chosen transport\")\n",
    "        static_map.get_legend().set_bbox_to_anchor((1.0, 0.0))\n",
    "    \n",
    "        #set title\n",
    "        static_map.set_title('Travel Times to specified YKR_ID')\n",
    "\n",
    "        #remove empty white-space around the axes\n",
    "        plt.tight_layout()\n",
    "\n",
    "        #add basemap\n",
    "        #ctx.add_basemap(my_map, url = ctx.tile_providers.OSM_A)\n",
    "    \n",
    "        # Save the figure as png file with resolution of 300 dpi\n",
    "        out_p_sm = ('data/maps/')     \n",
    "        out_fp_sm = os.path.join(out_p_m + YKR_ID + '.png')\n",
    "        plt.savefig(out_fp_sm)\n"
   ]
  },
  {
   "cell_type": "markdown",
   "metadata": {},
   "source": [
    " ##### Part 4"
   ]
  },
  {
   "cell_type": "code",
   "execution_count": null,
   "metadata": {},
   "outputs": [],
   "source": []
  }
 ],
 "metadata": {
  "kernelspec": {
   "display_name": "Python 3",
   "language": "python",
   "name": "python3"
  },
  "language_info": {
   "codemirror_mode": {
    "name": "ipython",
    "version": 3
   },
   "file_extension": ".py",
   "mimetype": "text/x-python",
   "name": "python",
   "nbconvert_exporter": "python",
   "pygments_lexer": "ipython3",
   "version": "3.6.5"
  }
 },
 "nbformat": 4,
 "nbformat_minor": 2
}
