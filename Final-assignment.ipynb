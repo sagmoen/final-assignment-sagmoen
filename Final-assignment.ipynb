{
 "cells": [
  {
   "cell_type": "markdown",
   "metadata": {},
   "source": [
    "## Final Assignment "
   ]
  },
  {
   "cell_type": "markdown",
   "metadata": {},
   "source": [
    "#### Part 1 and 2\n",
    "1. The first part of AccessViz finds the from the data/TravelTimes folder the traveltimes-text files the user specifies with by YKR_ID in the YKR_ID_list in the start of the code.\n",
    "\n",
    "2. After finding the specified traveltimes-txt files, this code reads the files and stores them into a folder data/shapefiles. The shapefiles are named the YKR_ID of the file. (eg. 5878087.shp)\n"
   ]
  },
  {
   "cell_type": "code",
   "execution_count": 1,
   "metadata": {},
   "outputs": [
    {
     "data": {
      "text/plain": [
       "{'proj': 'utm', 'zone': 35, 'ellps': 'GRS80', 'units': 'm', 'no_defs': True}"
      ]
     },
     "execution_count": 1,
     "metadata": {},
     "output_type": "execute_result"
    }
   ],
   "source": [
    "import geopandas as gpd\n",
    "import pandas as pd\n",
    "import os\n",
    "\n",
    "#read and take a look at the YKR_grid shp file \n",
    "grid_fp = 'data/MetropAccess_YKR_grid/MetropAccess_YKR_grid_EurefFIN.shp'\n",
    "\n",
    "#read the file\n",
    "grid = gpd.read_file(grid_fp)\n",
    "\n",
    "# Change the name of YKR_ID to from_id, to enable the join\n",
    "grid.rename(columns={'YKR_ID': 'from_id'}, inplace=True)\n",
    "\n",
    "# See the column names and confirm that we now have a column called 'from_id'\n",
    "grid.head()\n",
    "grid.crs"
   ]
  },
  {
   "cell_type": "markdown",
   "metadata": {},
   "source": [
    "1. This first part of the code finds all the textfiles in the data/TravelTime folder, and then store each of the traveltime modes into a shapefile named the YKR_ID number of the file. <br />\n",
    "\n",
    "2. The user has to specify which YKR_IDs she/he wants to use in YKR_ID, where it says \"specify YKR_IDs here!\"<br />\n",
    "\n",
    "3. The rest of the code reads in the .txt-files to pandad dataframe, converst it into a geopandas dataframe and stores each of the geodataframes into shapefiles called the YKR_ID number of the text file. \n",
    "\n",
    "4. I tried to write the code in a way that would say if the YKR_ID did not exist in the data/TravelTime-folder. My code would not work when I tried that, so i decided to leave it out, in order to make the code work. At the bottom of this markadown cell is the code I used for trying. I am pretty sure that the error is in how I coded the 'if'-statement, and I tried different ways, but non of the worked.\n",
    "\n",
    "5. I also did not manage to write my code in a way that would inform the user about how the progression in the reading of files is going.\n",
    "\n",
    "```\n",
    "for YKR_ID in YKR_IDs: \n",
    "    #create path where the file is found\n",
    "    path = ('data/TravelTimes/travel_times_to_')\n",
    "    #create empty list where the filepath coresponding to YKR_ID-list can be stored.\n",
    "    fp_list = []\n",
    "    #create filepaths\n",
    "    filepath = os.path.join(path + YKR_ID + '.txt')\n",
    "    #append filepaths to the fp_list.\n",
    "    fp_list.append(filepath)\n",
    "    #print(fp_list)\n",
    "    ```\n",
    "```        \n",
    "    #iterate over the filepaths stored in the fp_list\n",
    "    for idx, fp in enumerate(fp_list):\n",
    "        print(fp) \n",
    "    ```\n",
    "\n",
    "```\n",
    "'''if filepath does not exist in folder, print that the the filepath does not exist in the folder'''\n",
    "        if fp is not in filepaths:\n",
    "             print('This YKR_ID does not exist in folder')\n",
    "             ```\n",
    "```                \n",
    "'''if the filepath exists in the filepaths list over files in the folder, create this into a dataframe'''\n",
    "        else:\n",
    "        data_ = pd.read_csv(fp, sep=';', usecols = ['from_id', 'pt_r_t'])\n",
    "        print(data_.head())\n",
    "```"
   ]
  },
  {
   "cell_type": "code",
   "execution_count": 2,
   "metadata": {},
   "outputs": [],
   "source": [
    "#specify YKR_IDs here!\n",
    "YKR_ID_list = ['5975373', '5878087']"
   ]
  },
  {
   "cell_type": "code",
   "execution_count": 3,
   "metadata": {},
   "outputs": [],
   "source": [
    "import glob\n",
    "import os\n",
    "import geopandas as gpd\n",
    "import pandas as pd\n",
    "import numpy as np\n",
    "\n",
    "#find all txt files in data/TravelTimes folder\n",
    "all_filepaths = glob.glob('data/TravelTimes/*.txt')\n",
    "#print(filepaths)\n",
    "\n",
    "#list of YKR_IDs I want to import: \n",
    "YKR_IDs = YKR_ID_list\n",
    "\n",
    "#create empty list where the filepath coresponding to YKR_ID-list can be stored.\n",
    "fp_list = []\n",
    "\n",
    "#Find filepaths for files specified in YKR_IDs \n",
    "for YKR_ID in YKR_IDs: \n",
    "    #create path where the file is found\n",
    "    path = ('data/TravelTimes/travel_times_to_')\n",
    "    #create filepaths\n",
    "    filepath = os.path.join(path + YKR_ID + '.txt')\n",
    "\n",
    "    #append filepaths to the fp_list.\n",
    "    fp_list.append(filepath)\n",
    "    #print(fp_list)\n",
    "    #print(filepath)"
   ]
  },
  {
   "cell_type": "code",
   "execution_count": null,
   "metadata": {},
   "outputs": [],
   "source": [
    "    #iterate over the filepaths stored in the fp_list\n",
    "    for idx, fp in enumerate(fp_list):\n",
    "        print(fp)\n",
    "        \n",
    "        #read the data to dataframe\n",
    "        data_ = pd.read_csv(fp, sep=';')\n",
    "        #print(data_.head())\n",
    "        \n",
    "        #change -1-values to NaN\n",
    "        data_ = data_.replace(-1, np.nan)\n",
    "        \n",
    "        #getting rid of Nan-values\n",
    "        #data_=data_.dropna()\n",
    "        #print(data_.tail())\n",
    "        \n",
    "        #merge data_ (pd) and grid(gpd) together on 'from_id'  \n",
    "        data = grid.merge(data_, on='from_id')\n",
    "        #data.head()\n",
    "   \n",
    "        #set CRS\n",
    "        CRS = grid.crs\n",
    "        \n",
    "        #make in into a geodataframe\n",
    "        travel_times = gpd.GeoDataFrame(data, crs=CRS, geometry ='geometry')\n",
    "        print(travel_times.head)\n",
    "        \n",
    "        #check the output\n",
    "        #print(travel_times) \n",
    "        \n",
    "        #save the geodataframes into shapefiles called the YKR_ID.shp in the folder shapefiles in data folder.\n",
    "        for travel_time in travel_times.iterrows():\n",
    "            #print(travel_time)\n",
    "            # Create a output path for the data\n",
    "            out_p = ('data/shapefiles/') \n",
    "            out_fp = os.path.join(out_p + YKR_ID + '.shp')\n",
    "            travel_times.to_file(out_fp)"
   ]
  },
  {
   "cell_type": "code",
   "execution_count": 7,
   "metadata": {},
   "outputs": [],
   "source": [
    "#print(travel_times.tail())"
   ]
  },
  {
   "cell_type": "markdown",
   "metadata": {},
   "source": [
    "#### PART 3: "
   ]
  },
  {
   "cell_type": "markdown",
   "metadata": {},
   "source": [
    "This part of the code should visualise the shp-files stored in the previous part. It coould make both a static map and a interactive map based on a parameter the user passes in. This must be specified in the cell that had the header \"specify travel mode and and type of map here\". 0 for static map, 1 for interactive. 0 is set by default. 'pt_r_t' is set by default for travel mode. The user can change it to wished travelmode by following the link to the Helsinki Travel Times webside.\n",
    "\n",
    "##### Issues with the code:\n",
    "1. For some reason, which probably comes from storing of the code in the previous part, only the first part of the shapefiles is read into to the geodataframes. This results in that only half of the data is created on the maps, which makes  the maps rather uninformative. I have tried to fix this, but I did not manage to, and I therefor decided to leave it like this.\n",
    "\n",
    "2. When it comes to the making the map it self, I found that my method is maybe a bit 'ineffective', especially when it comes to creating the interactive map. It would be a better solution to use 'mplleaflet.show()' after creating the static plt.plot()-map, but I did not find  this method before the very end, and it did not work the first time I tried it so decided to use how I solved it the first way for my code. "
   ]
  },
  {
   "cell_type": "code",
   "execution_count": 4,
   "metadata": {},
   "outputs": [
    {
     "name": "stdout",
     "output_type": "stream",
     "text": [
      "['data/shapefiles/5975373.shp', 'data/shapefiles/5878087.shp']\n"
     ]
    }
   ],
   "source": [
    "import glob\n",
    "import os\n",
    "import folium\n",
    "import geopandas as gpd\n",
    "import pandas as pd\n",
    "import matplotlib.pyplot as plt\n",
    "import contextily as ctx\n",
    "%matplotlib inline\n",
    "\n",
    "shp_files = glob.glob('data/shapefiles/*.shp')\n",
    "print(shp_files)\n"
   ]
  },
  {
   "cell_type": "markdown",
   "metadata": {},
   "source": [
    "> #### SPECIFY TRAVELMODE AND TYPE OF MAP IN THIS CELL. \n",
    "\n",
    "Explanation for travelmode codes are found on this webpage: \n",
    "[https://blogs.helsinki.fi/accessibility/helsinki-region-travel-time-matrix-2018/]"
   ]
  },
  {
   "cell_type": "code",
   "execution_count": 12,
   "metadata": {},
   "outputs": [],
   "source": [
    "#SPECIFY COLUMN YOU WOULD LIKE TO VISUALISE HERE. pt_r_t bu default.\n",
    "column_for_visualising = \"pt_r_t\"\n",
    "\n",
    "#Static or interactive. Replace 0 with 1 if interactive, static by default. \n",
    "map_type = 1\n",
    "\n",
    "CRS = grid.crs\n",
    "#print(CRS)"
   ]
  },
  {
   "cell_type": "code",
   "execution_count": 17,
   "metadata": {},
   "outputs": [],
   "source": [
    "for idx, fp in enumerate(shp_files):\n",
    "    #print(fp)\n",
    "    shp_data = gpd.read_file(fp, crs=CRS )\n",
    "    #print(shp_data.tail())\n",
    "    #shp_data.crs\n",
    "    \n",
    "    if map_type > 0:\n",
    "        #create interactive map\n",
    "        # Re-project to WGS84\n",
    "        shp_data_2 = shp_data.to_crs(epsg=4326)\n",
    "        #shp_data.crs\n",
    "        #print(shp_data.head())\n",
    "\n",
    "        # Create a Geo-id which is needed by the Folium (it needs to have a unique identifier for each row)\n",
    "        shp_data_2['geoid'] = shp_data_2.index.astype(str)\n",
    "\n",
    "        # Select only needed columns\n",
    "        shp_data_2 = shp_data_2[['geoid', column_for_visualising, 'geometry']]\n",
    "        \n",
    "        # Create a Map instance\n",
    "        int_map = folium.Map(location=[60.25, 24.8], tiles = 'cartodbpositron', zoom_start=10, control_scale=True)\n",
    "        \n",
    "        # Plot a choropleth map\n",
    "        int_map.choropleth(\n",
    "            geo_data=shp_data_2,\n",
    "            name='Travel times Helsinki',\n",
    "            data=shp_data_2,\n",
    "            columns=['geoid', column_for_visualising, 'geometry'],\n",
    "            key_on='feature.id',\n",
    "            fill_color='YlOrRd',\n",
    "            fill_opacity=0.7,\n",
    "            line_opacity=0.2,\n",
    "            line_color='white',\n",
    "            line_weight=0,\n",
    "            highlight=False,\n",
    "            smooth_factor=1.0,\n",
    "            #threshold_scale=[100, 250, 500, 1000, 2000],\n",
    "            legend_name='Traveltimes to chosen YKR_ID in minutes')\n",
    "        #checking the output\n",
    "        #int_map\n",
    "        \n",
    "        #saving the map as html-file\n",
    "        out_p_im = ('data/maps/')\n",
    "        out_fp_im = os.path.join(out_p_im + YKR_ID + '.html')\n",
    "        int_map.save(out_fp_im)\n",
    "\n",
    "\n",
    "    else:\n",
    "        \n",
    "        shp_data_1 = shp_data.to_crs(epsg=3857)\n",
    "        #create static map using matplotlib.plt\n",
    "        #print(shp_data_1.tail())\n",
    "        #print(shp_data_1)\n",
    "        static_map = shp_data_1.plot(column=column_for_visualising, linewidth=0.03, figsize=(12, 8), cmap=\"RdYlBu\", scheme=\"quantiles\", k=7, alpha=0.6, legend=True)\n",
    "    \n",
    "        #get legend and place it at the map\n",
    "        static_map.get_legend().set_title(\"Minutes with transport to YKR_ID by chosen transport\")\n",
    "        static_map.get_legend().set_bbox_to_anchor((1.0, 0.0))\n",
    "    \n",
    "        #set title on map\n",
    "        static_map.set_title('Travel Times to specified YKR_ID')\n",
    "\n",
    "        # Add basemap\n",
    "        ctx.add_basemap(static_map, url = ctx.tile_providers.OSM_A)\n",
    "        \n",
    "        #remove empty white-space around the axes\n",
    "        plt.tight_layout()\n",
    "    \n",
    "        # Save the figure as png file \n",
    "        out_p_sm = ('data/maps/')     \n",
    "        out_fp_sm = os.path.join(out_p_sm + YKR_ID + '.png')\n",
    "        plt.savefig(out_fp_sm)\n"
   ]
  },
  {
   "cell_type": "markdown",
   "metadata": {},
   "source": [
    " ##### Part 4\n",
    " compare traveltimes or distances between 2 different travel modes. "
   ]
  },
  {
   "cell_type": "markdown",
   "metadata": {},
   "source": [
    "##### Part 5 \n",
    "Interactive map over the YKR grid values in Helsinki region. The purpose of the map is to help the user to choose the YKR-IDs that s/he is interested to visualize / analyze.\n",
    "\n",
    "For this problem I guess we where supposed to make a map, looking like the Blokeh map on the Helsinki TravelTimes webpage. "
   ]
  },
  {
   "cell_type": "code",
   "execution_count": 18,
   "metadata": {},
   "outputs": [
    {
     "data": {
      "text/html": [
       "<div>\n",
       "<style scoped>\n",
       "    .dataframe tbody tr th:only-of-type {\n",
       "        vertical-align: middle;\n",
       "    }\n",
       "\n",
       "    .dataframe tbody tr th {\n",
       "        vertical-align: top;\n",
       "    }\n",
       "\n",
       "    .dataframe thead th {\n",
       "        text-align: right;\n",
       "    }\n",
       "</style>\n",
       "<table border=\"1\" class=\"dataframe\">\n",
       "  <thead>\n",
       "    <tr style=\"text-align: right;\">\n",
       "      <th></th>\n",
       "      <th>x</th>\n",
       "      <th>y</th>\n",
       "      <th>YKR_ID</th>\n",
       "      <th>geometry</th>\n",
       "    </tr>\n",
       "  </thead>\n",
       "  <tbody>\n",
       "    <tr>\n",
       "      <th>0</th>\n",
       "      <td>381875.0</td>\n",
       "      <td>6697880.0</td>\n",
       "      <td>5785640</td>\n",
       "      <td>POLYGON ((382000.0001388059 6697750.000128186,...</td>\n",
       "    </tr>\n",
       "    <tr>\n",
       "      <th>1</th>\n",
       "      <td>382125.0</td>\n",
       "      <td>6697880.0</td>\n",
       "      <td>5785641</td>\n",
       "      <td>POLYGON ((382250.00013875 6697750.000128181, 3...</td>\n",
       "    </tr>\n",
       "    <tr>\n",
       "      <th>2</th>\n",
       "      <td>382375.0</td>\n",
       "      <td>6697880.0</td>\n",
       "      <td>5785642</td>\n",
       "      <td>POLYGON ((382500.0001386951 6697750.000128172,...</td>\n",
       "    </tr>\n",
       "    <tr>\n",
       "      <th>3</th>\n",
       "      <td>382625.0</td>\n",
       "      <td>6697880.0</td>\n",
       "      <td>5785643</td>\n",
       "      <td>POLYGON ((382750.0001386406 6697750.000128165,...</td>\n",
       "    </tr>\n",
       "    <tr>\n",
       "      <th>4</th>\n",
       "      <td>381125.0</td>\n",
       "      <td>6697630.0</td>\n",
       "      <td>5787544</td>\n",
       "      <td>POLYGON ((381250.000138978 6697500.000128254, ...</td>\n",
       "    </tr>\n",
       "  </tbody>\n",
       "</table>\n",
       "</div>"
      ],
      "text/plain": [
       "          x          y   YKR_ID  \\\n",
       "0  381875.0  6697880.0  5785640   \n",
       "1  382125.0  6697880.0  5785641   \n",
       "2  382375.0  6697880.0  5785642   \n",
       "3  382625.0  6697880.0  5785643   \n",
       "4  381125.0  6697630.0  5787544   \n",
       "\n",
       "                                            geometry  \n",
       "0  POLYGON ((382000.0001388059 6697750.000128186,...  \n",
       "1  POLYGON ((382250.00013875 6697750.000128181, 3...  \n",
       "2  POLYGON ((382500.0001386951 6697750.000128172,...  \n",
       "3  POLYGON ((382750.0001386406 6697750.000128165,...  \n",
       "4  POLYGON ((381250.000138978 6697500.000128254, ...  "
      ]
     },
     "execution_count": 18,
     "metadata": {},
     "output_type": "execute_result"
    }
   ],
   "source": [
    "import geopandas as gpd\n",
    "import pandas as pd\n",
    "import os\n",
    "\n",
    "#read and take a look at the YKR_grid shp file \n",
    "grid_fp = 'data/MetropAccess_YKR_grid/MetropAccess_YKR_grid_EurefFIN.shp'\n",
    "\n",
    "#read the file\n",
    "grid_1 = gpd.read_file(grid_fp)\n",
    "\n",
    "# See the column names\n",
    "grid_1.head()\n",
    "#grid.crs"
   ]
  },
  {
   "cell_type": "code",
   "execution_count": 14,
   "metadata": {},
   "outputs": [
    {
     "name": "stdout",
     "output_type": "stream",
     "text": [
      "{'init': 'epsg:4326', 'no_defs': True}\n"
     ]
    }
   ],
   "source": [
    "# Re-project to WGS84\n",
    "grid_1 = grid_1.to_crs(epsg=4326)\n",
    "\n",
    "# Check layer crs definition\n",
    "print(grid_1.crs)\n",
    "\n",
    "# Create a Geo-id which is needed by the Folium (it needs to have a unique identifier for each row)\n",
    "grid_1['geoid'] = grid_1.index.astype(str)\n",
    "\n",
    "# Select only needed columns\n",
    "grid_1 = grid_1[['geoid', 'YKR_ID', 'geometry']]\n",
    "\n",
    "#check data\n",
    "#grid_1.tail()\n"
   ]
  },
  {
   "cell_type": "code",
   "execution_count": 10,
   "metadata": {},
   "outputs": [],
   "source": [
    "import folium\n",
    "# Create a Map instance\n",
    "YKRID_map = folium.Map(location=[60.25, 24.8], tiles = 'cartodbpositron', zoom_start=11, control_scale=True)\n",
    "\n",
    "#YKRID_map"
   ]
  },
  {
   "cell_type": "code",
   "execution_count": 14,
   "metadata": {},
   "outputs": [],
   "source": [
    "# Plot a choropleth map\n",
    "YKRID_map.choropleth(\n",
    "    geo_data=grid_1,\n",
    "    name='Population in 2017',\n",
    "    data=grid_1,\n",
    "    columns=['geoid', 'YKR_ID'],\n",
    "    key_on='feature.id',\n",
    "    fill_color='YlOrRd',\n",
    "    fill_opacity=0.7,\n",
    "    line_opacity=0.2,\n",
    "    line_color='white',\n",
    "    line_weight=0,\n",
    "    highlight=False,\n",
    "    smooth_factor=1.0,\n",
    "    threshold_scale=[5785640, 5800000, 5850000, 5900000, 5950000, 6018254], #[100, 250, 500, 1000, 2000],\n",
    "    legend_name= 'YKR_ID cells, Helsinki')\n",
    "\n",
    "#saving the map\n",
    "out_YKRID_map_fp = \"data/maps/YKR_ID_cells_Helsinki.html\"\n",
    "YKRID_map.save(out_YKRID_map_fp)\n",
    "\n",
    "#Show map\n",
    "#YKRID_map"
   ]
  },
  {
   "cell_type": "code",
   "execution_count": null,
   "metadata": {},
   "outputs": [],
   "source": []
  }
 ],
 "metadata": {
  "kernelspec": {
   "display_name": "Python 3",
   "language": "python",
   "name": "python3"
  },
  "language_info": {
   "codemirror_mode": {
    "name": "ipython",
    "version": 3
   },
   "file_extension": ".py",
   "mimetype": "text/x-python",
   "name": "python",
   "nbconvert_exporter": "python",
   "pygments_lexer": "ipython3",
   "version": "3.6.5"
  }
 },
 "nbformat": 4,
 "nbformat_minor": 2
}
