{
 "cells": [
  {
   "cell_type": "markdown",
   "metadata": {},
   "source": [
    "## Final Assignment "
   ]
  },
  {
   "cell_type": "markdown",
   "metadata": {},
   "source": [
    "#### Part 1. \n",
    "This AccessViz finds the from the datafolder all the matrices that the user has specified by assigning a list of integer\n",
    "values that corresponds to YKR_ID found from the MetropAccess_YKR_grid. \n",
    "     - AccessViz should inform the user about how the execution process is going. "
   ]
  },
  {
   "cell_type": "markdown",
   "metadata": {},
   "source": []
  },
  {
   "cell_type": "markdown",
   "metadata": {},
   "source": [
    "##### Find datafiles using os.path.join()-function. \n",
    "- This should work for all of the files in the Helsinki Travel Times folder, the user just has to pas the the YKR_IDs as a list of integers, with the seperator ';'. \n",
    "- I should also manage to tell the user how the executing process is going for the files. "
   ]
  },
  {
   "cell_type": "code",
   "execution_count": 15,
   "metadata": {},
   "outputs": [
    {
     "data": {
      "text/html": [
       "<div>\n",
       "<style scoped>\n",
       "    .dataframe tbody tr th:only-of-type {\n",
       "        vertical-align: middle;\n",
       "    }\n",
       "\n",
       "    .dataframe tbody tr th {\n",
       "        vertical-align: top;\n",
       "    }\n",
       "\n",
       "    .dataframe thead th {\n",
       "        text-align: right;\n",
       "    }\n",
       "</style>\n",
       "<table border=\"1\" class=\"dataframe\">\n",
       "  <thead>\n",
       "    <tr style=\"text-align: right;\">\n",
       "      <th></th>\n",
       "      <th>x</th>\n",
       "      <th>y</th>\n",
       "      <th>from_id</th>\n",
       "      <th>geometry</th>\n",
       "    </tr>\n",
       "  </thead>\n",
       "  <tbody>\n",
       "    <tr>\n",
       "      <th>0</th>\n",
       "      <td>381875.0</td>\n",
       "      <td>6697880.0</td>\n",
       "      <td>5785640</td>\n",
       "      <td>POLYGON ((382000.0001388059 6697750.000128186,...</td>\n",
       "    </tr>\n",
       "    <tr>\n",
       "      <th>1</th>\n",
       "      <td>382125.0</td>\n",
       "      <td>6697880.0</td>\n",
       "      <td>5785641</td>\n",
       "      <td>POLYGON ((382250.00013875 6697750.000128181, 3...</td>\n",
       "    </tr>\n",
       "    <tr>\n",
       "      <th>2</th>\n",
       "      <td>382375.0</td>\n",
       "      <td>6697880.0</td>\n",
       "      <td>5785642</td>\n",
       "      <td>POLYGON ((382500.0001386951 6697750.000128172,...</td>\n",
       "    </tr>\n",
       "    <tr>\n",
       "      <th>3</th>\n",
       "      <td>382625.0</td>\n",
       "      <td>6697880.0</td>\n",
       "      <td>5785643</td>\n",
       "      <td>POLYGON ((382750.0001386406 6697750.000128165,...</td>\n",
       "    </tr>\n",
       "    <tr>\n",
       "      <th>4</th>\n",
       "      <td>381125.0</td>\n",
       "      <td>6697630.0</td>\n",
       "      <td>5787544</td>\n",
       "      <td>POLYGON ((381250.000138978 6697500.000128254, ...</td>\n",
       "    </tr>\n",
       "  </tbody>\n",
       "</table>\n",
       "</div>"
      ],
      "text/plain": [
       "          x          y  from_id  \\\n",
       "0  381875.0  6697880.0  5785640   \n",
       "1  382125.0  6697880.0  5785641   \n",
       "2  382375.0  6697880.0  5785642   \n",
       "3  382625.0  6697880.0  5785643   \n",
       "4  381125.0  6697630.0  5787544   \n",
       "\n",
       "                                            geometry  \n",
       "0  POLYGON ((382000.0001388059 6697750.000128186,...  \n",
       "1  POLYGON ((382250.00013875 6697750.000128181, 3...  \n",
       "2  POLYGON ((382500.0001386951 6697750.000128172,...  \n",
       "3  POLYGON ((382750.0001386406 6697750.000128165,...  \n",
       "4  POLYGON ((381250.000138978 6697500.000128254, ...  "
      ]
     },
     "execution_count": 15,
     "metadata": {},
     "output_type": "execute_result"
    }
   ],
   "source": [
    "import geopandas as gpd\n",
    "import pandas as pd\n",
    "import os\n",
    "\n",
    "#read and take a look at the YKR_grid shp file \n",
    "grid_fp = 'data/MetropAccess_YKR_grid/MetropAccess_YKR_grid_EurefFIN.shp'\n",
    "\n",
    "#read the file\n",
    "grid = gpd.read_file(grid_fp)\n",
    "\n",
    "# Change the name of YKR_ID to from_id, to enable the join\n",
    "grid.rename(columns={'YKR_ID': 'from_id'}, inplace=True)\n",
    "\n",
    "# See the column names and confirm that we now have a column called 'from_id'\n",
    "grid.head()\n",
    "#grid.crs"
   ]
  },
  {
   "cell_type": "code",
   "execution_count": 152,
   "metadata": {},
   "outputs": [
    {
     "name": "stdout",
     "output_type": "stream",
     "text": [
      "data/TravelTimes/travel_times_to_5975373.txt\n",
      "   from_id    to_id  walk_t  walk_d  car_r_t  car_r_d  car_m_t  car_m_d  \\\n",
      "0  5785640  5975373     456   31918       49    31947       44    31985   \n",
      "1  5785641  5975373     419   29302       49    32158       44    32196   \n",
      "2  5785642  5975373     420   29381       57    31560       51    29821   \n",
      "3  5785643  5975373     424   29674       60    34116       55    32377   \n",
      "4  5787544  5975373     449   31429       48    31522       43    31559   \n",
      "\n",
      "   pt_r_t  pt_r_tt  pt_r_d  pt_m_t  pt_m_tt  pt_m_d  \n",
      "0     110      137   32758     118      149   32758  \n",
      "1     113      134   32964     121      147   32964  \n",
      "2     115      134   33082     123      148   33082  \n",
      "3     119      144   33375     127      152   33375  \n",
      "4     103      121   32269     111      128   32269  \n",
      "data/TravelTimes/travel_times_to_5878087.txt\n",
      "   from_id    to_id  walk_t  walk_d  car_r_t  car_r_d  car_m_t  car_m_d  \\\n",
      "0  5785640  5878087     350   24513       45    27882       40    27890   \n",
      "1  5785641  5878087     321   22438       45    28093       40    28100   \n",
      "2  5785642  5878087     322   22518       52    22575       46    22583   \n",
      "3  5785643  5878087     326   22811       48    23991       41    23992   \n",
      "4  5787544  5878087     343   24024       44    27456       39    27464   \n",
      "\n",
      "   pt_r_t  pt_r_tt  pt_r_d  pt_m_t  pt_m_tt  pt_m_d  \n",
      "0     102      134   27566     114      145   30241  \n",
      "1     109      130   30447     117      143   30447  \n",
      "2     111      130   30564     119      144   30564  \n",
      "3     115      140   30857     123      148   30857  \n",
      "4      99      118   29751      98      121   27077  \n"
     ]
    }
   ],
   "source": [
    "import glob\n",
    "import numpy as np\n",
    "import pandas as pd\n",
    "\n",
    "#find all txt files in data/TravelTimes folder\n",
    "filepaths = glob.glob('data/TravelTimes/*.txt')\n",
    "#print(filepaths)\n",
    "\n",
    "#list of YKR_IDs I want to import: \n",
    "YKR_IDs = ['5975373', '5878087']#, '5855714'\n",
    "\n",
    "#Find filepaths for files specified in YKR_IDs \n",
    "for YKR_ID in YKR_IDs: \n",
    "    path = ('data/TravelTimes/travel_times_to_')\n",
    "    fp_list = []\n",
    "    filepath = os.path.join(path + YKR_ID + '.txt')\n",
    "    fp_list.append(filepath)\n",
    "    #print(fp_list)\n",
    "        \n",
    "    for idx, fp in enumerate(fp_list):\n",
    "        print(fp)\n",
    "        '''if the filepath exists in the filepaths list in the folder, create this into a dataframe'''\n",
    "        #if fp is in filepaths:\n",
    "        \n",
    "        data = pd.read_csv(fp, sep=';') #usecols = ['from_id', 'pt_r_t'])\n",
    "        print(data.head())\n",
    "       \n",
    "        '''if not, print that the the filepath does not exist in the folder'''\n",
    "        #else:\n",
    "            #print('This YKR_ID does not exist in folder')    "
   ]
  },
  {
   "cell_type": "markdown",
   "metadata": {},
   "source": [
    "#### PART 2: \n",
    "Create Shapefiles from the chosen Matrix text tables (e.g. travel_times_to_5797076.txt) by joining the Matrix file with MetropAccess_YKR_grid Shapefile where from_id in Matrix file corresponds to YKR_ID in the Shapefile. The tool saves the result in the output-folder that user has defined. You should name the files in a way that it is possible to identify the ID from the name (e.g. 5797076)."
   ]
  },
  {
   "cell_type": "markdown",
   "metadata": {},
   "source": [
    "##### Join the two tables into one geodataframe based on YKR_ID and from_id\n"
   ]
  },
  {
   "cell_type": "code",
   "execution_count": 153,
   "metadata": {},
   "outputs": [
    {
     "name": "stdout",
     "output_type": "stream",
     "text": [
      "          x          y  from_id  \\\n",
      "0  381875.0  6697880.0  5785640   \n",
      "1  382125.0  6697880.0  5785641   \n",
      "2  382375.0  6697880.0  5785642   \n",
      "3  382625.0  6697880.0  5785643   \n",
      "4  381125.0  6697630.0  5787544   \n",
      "\n",
      "                                            geometry    to_id  walk_t  walk_d  \\\n",
      "0  POLYGON ((382000.0001388059 6697750.000128186,...  5878087     350   24513   \n",
      "1  POLYGON ((382250.00013875 6697750.000128181, 3...  5878087     321   22438   \n",
      "2  POLYGON ((382500.0001386951 6697750.000128172,...  5878087     322   22518   \n",
      "3  POLYGON ((382750.0001386406 6697750.000128165,...  5878087     326   22811   \n",
      "4  POLYGON ((381250.000138978 6697500.000128254, ...  5878087     343   24024   \n",
      "\n",
      "   car_r_t  car_r_d  car_m_t  car_m_d  pt_r_t  pt_r_tt  pt_r_d  pt_m_t  \\\n",
      "0       45    27882       40    27890     102      134   27566     114   \n",
      "1       45    28093       40    28100     109      130   30447     117   \n",
      "2       52    22575       46    22583     111      130   30564     119   \n",
      "3       48    23991       41    23992     115      140   30857     123   \n",
      "4       44    27456       39    27464      99      118   29751      98   \n",
      "\n",
      "   pt_m_tt  pt_m_d  \n",
      "0      145   30241  \n",
      "1      143   30447  \n",
      "2      144   30564  \n",
      "3      148   30857  \n",
      "4      121   27077  \n"
     ]
    }
   ],
   "source": [
    "   \n",
    "#merge data (pd) and grid(gpd) together on 'from_id'  \n",
    "data = grid.merge(data, on='from_id')\n",
    "data.head()\n",
    "   \n",
    "#Create into geodataframe\n",
    "#set CRS\n",
    "CRS = grid.crs\n",
    "\n",
    "#make in into a geodataframe\n",
    "travel_times = gpd.GeoDataFrame(data, crs=CRS, geometry ='geometry')\n",
    "\n",
    "#select columns\n",
    "    \n",
    "#check the output\n",
    "print(travel_times.head())"
   ]
  },
  {
   "cell_type": "markdown",
   "metadata": {},
   "source": [
    "##### Save the geodataframe into shapefile which has a unique number (the YKR_ID)"
   ]
  },
  {
   "cell_type": "code",
   "execution_count": 154,
   "metadata": {},
   "outputs": [
    {
     "name": "stdout",
     "output_type": "stream",
     "text": [
      "x\n",
      "y\n",
      "from_id\n",
      "geometry\n",
      "to_id\n",
      "walk_t\n",
      "walk_d\n",
      "car_r_t\n",
      "car_r_d\n",
      "car_m_t\n",
      "car_m_d\n",
      "pt_r_t\n",
      "pt_r_tt\n",
      "pt_r_d\n",
      "pt_m_t\n",
      "pt_m_tt\n",
      "pt_m_d\n"
     ]
    }
   ],
   "source": [
    "for travel_time in travel_times:\n",
    "    print(travel_time)\n",
    "    path = (data/shapefiles)\n",
    "    travel_times.to_file(filename = ('YKR_ID'))"
   ]
  },
  {
   "cell_type": "code",
   "execution_count": null,
   "metadata": {},
   "outputs": [],
   "source": []
  }
 ],
 "metadata": {
  "kernelspec": {
   "display_name": "Python 3",
   "language": "python",
   "name": "python3"
  },
  "language_info": {
   "codemirror_mode": {
    "name": "ipython",
    "version": 3
   },
   "file_extension": ".py",
   "mimetype": "text/x-python",
   "name": "python",
   "nbconvert_exporter": "python",
   "pygments_lexer": "ipython3",
   "version": "3.6.5"
  }
 },
 "nbformat": 4,
 "nbformat_minor": 2
}
