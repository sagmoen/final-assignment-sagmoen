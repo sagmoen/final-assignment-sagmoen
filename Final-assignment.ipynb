{
 "cells": [
  {
   "cell_type": "markdown",
   "metadata": {},
   "source": [
    "## Final Assignment "
   ]
  },
  {
   "cell_type": "markdown",
   "metadata": {},
   "source": [
    "#### Part 1. \n",
    "This AccessViz finds the from the datafolder all the matrices that the user has specified by assigning a list of integer\n",
    "values that corresponds to YKR_ID found from the MetropAccess_YKR_grid. \n",
    "     - AccessViz should inform the user about how the execution process is going. "
   ]
  },
  {
   "cell_type": "markdown",
   "metadata": {},
   "source": []
  },
  {
   "cell_type": "markdown",
   "metadata": {},
   "source": [
    "##### Find datafiles using os.path.join()-function. \n",
    "- This should work for all of the files in the Helsinki Travel Times folder, the user just has to pas the the YKR_IDs as a list of integers, with the seperator ';'. \n",
    "- I should also manage to tell the user how the executing process is going for the files. "
   ]
  },
  {
   "cell_type": "code",
   "execution_count": 1,
   "metadata": {},
   "outputs": [
    {
     "data": {
      "text/html": [
       "<div>\n",
       "<style scoped>\n",
       "    .dataframe tbody tr th:only-of-type {\n",
       "        vertical-align: middle;\n",
       "    }\n",
       "\n",
       "    .dataframe tbody tr th {\n",
       "        vertical-align: top;\n",
       "    }\n",
       "\n",
       "    .dataframe thead th {\n",
       "        text-align: right;\n",
       "    }\n",
       "</style>\n",
       "<table border=\"1\" class=\"dataframe\">\n",
       "  <thead>\n",
       "    <tr style=\"text-align: right;\">\n",
       "      <th></th>\n",
       "      <th>x</th>\n",
       "      <th>y</th>\n",
       "      <th>from_id</th>\n",
       "      <th>geometry</th>\n",
       "    </tr>\n",
       "  </thead>\n",
       "  <tbody>\n",
       "    <tr>\n",
       "      <th>0</th>\n",
       "      <td>381875.0</td>\n",
       "      <td>6697880.0</td>\n",
       "      <td>5785640</td>\n",
       "      <td>POLYGON ((382000.0001388059 6697750.000128186,...</td>\n",
       "    </tr>\n",
       "    <tr>\n",
       "      <th>1</th>\n",
       "      <td>382125.0</td>\n",
       "      <td>6697880.0</td>\n",
       "      <td>5785641</td>\n",
       "      <td>POLYGON ((382250.00013875 6697750.000128181, 3...</td>\n",
       "    </tr>\n",
       "    <tr>\n",
       "      <th>2</th>\n",
       "      <td>382375.0</td>\n",
       "      <td>6697880.0</td>\n",
       "      <td>5785642</td>\n",
       "      <td>POLYGON ((382500.0001386951 6697750.000128172,...</td>\n",
       "    </tr>\n",
       "    <tr>\n",
       "      <th>3</th>\n",
       "      <td>382625.0</td>\n",
       "      <td>6697880.0</td>\n",
       "      <td>5785643</td>\n",
       "      <td>POLYGON ((382750.0001386406 6697750.000128165,...</td>\n",
       "    </tr>\n",
       "    <tr>\n",
       "      <th>4</th>\n",
       "      <td>381125.0</td>\n",
       "      <td>6697630.0</td>\n",
       "      <td>5787544</td>\n",
       "      <td>POLYGON ((381250.000138978 6697500.000128254, ...</td>\n",
       "    </tr>\n",
       "  </tbody>\n",
       "</table>\n",
       "</div>"
      ],
      "text/plain": [
       "          x          y  from_id  \\\n",
       "0  381875.0  6697880.0  5785640   \n",
       "1  382125.0  6697880.0  5785641   \n",
       "2  382375.0  6697880.0  5785642   \n",
       "3  382625.0  6697880.0  5785643   \n",
       "4  381125.0  6697630.0  5787544   \n",
       "\n",
       "                                            geometry  \n",
       "0  POLYGON ((382000.0001388059 6697750.000128186,...  \n",
       "1  POLYGON ((382250.00013875 6697750.000128181, 3...  \n",
       "2  POLYGON ((382500.0001386951 6697750.000128172,...  \n",
       "3  POLYGON ((382750.0001386406 6697750.000128165,...  \n",
       "4  POLYGON ((381250.000138978 6697500.000128254, ...  "
      ]
     },
     "execution_count": 1,
     "metadata": {},
     "output_type": "execute_result"
    }
   ],
   "source": [
    "import geopandas as gpd\n",
    "import pandas as pd\n",
    "import os\n",
    "\n",
    "#read and take a look at the YKR_grid shp file \n",
    "grid_fp = 'data/MetropAccess_YKR_grid/MetropAccess_YKR_grid_EurefFIN.shp'\n",
    "\n",
    "#read the file\n",
    "grid = gpd.read_file(grid_fp)\n",
    "\n",
    "# Change the name of YKR_ID to from_id, to enable the join\n",
    "grid.rename(columns={'YKR_ID': 'from_id'}, inplace=True)\n",
    "\n",
    "# See the column names and confirm that we now have a column called 'from_id'\n",
    "grid.head()\n",
    "#grid.crs"
   ]
  },
  {
   "cell_type": "code",
   "execution_count": null,
   "metadata": {},
   "outputs": [],
   "source": [
    "import glob\n",
    "\n",
    "#YKR_IDs = [5855714, 5878087]\n",
    "#print(YKR_IDs)\n",
    "\n",
    "#use glob function to read in all the .txt-files in the data-directory\n",
    "filepaths = glob.glob('data/*.txt')\n",
    "#print(filepaths)\n",
    "\n",
    "#read the filepaths in filepaths-list  into geodataframe\n",
    "for idx, fp in enumerate(filepaths):\n",
    "    #print(fp)\n",
    "    data = pd.read_csv(fp, sep=';')\n",
    "    \n",
    "    '''Drop NaN values'''\n",
    "    \n",
    "    '''merge data (pd) and grid(gpd) together on 'from_id'  '''\n",
    "    data = data.merge(grid, on='from_id')\n",
    "    #print(data.head())\n",
    "   \n",
    "    '''Create into geodataframe'''\n",
    "    #set CRS\n",
    "    CRS = grid.crs\n",
    "    #make in into a geodataframe\n",
    "    travel_times = gpd.GeoDataFrame(data, crs=CRS, geometry ='geometry')\n",
    "    #print(travel_times.head())\n",
    "    \n",
    "    '''Save and store each of the geodataframes into separate shapefiles called the YKR_ID of the file'''\n",
    "    \n",
    "    for travel_time in travel_times:\n",
    "        YKR_ID = travel_times['to_id']\n",
    "        travel_times.to_file(filename='YKR_ID')\n",
    "        #print(YKR_ID)\n",
    "    \n",
    " \n",
    "    \n",
    "\n",
    "\n",
    "    "
   ]
  },
  {
   "cell_type": "code",
   "execution_count": null,
   "metadata": {},
   "outputs": [],
   "source": [
    "travel_times.head()"
   ]
  },
  {
   "cell_type": "markdown",
   "metadata": {},
   "source": [
    "#### PART 2: \n",
    "Create Shapefiles from the chosen Matrix text tables (e.g. travel_times_to_5797076.txt) by joining the Matrix file with MetropAccess_YKR_grid Shapefile where from_id in Matrix file corresponds to YKR_ID in the Shapefile. The tool saves the result in the output-folder that user has defined. You should name the files in a way that it is possible to identify the ID from the name (e.g. 5797076)."
   ]
  },
  {
   "cell_type": "markdown",
   "metadata": {},
   "source": [
    "##### Join the two tables into one geodataframe based on YKR_ID and from_id\n"
   ]
  },
  {
   "cell_type": "code",
   "execution_count": null,
   "metadata": {},
   "outputs": [],
   "source": []
  },
  {
   "cell_type": "code",
   "execution_count": 65,
   "metadata": {},
   "outputs": [],
   "source": [
    "\n",
    "\n",
    "#make in into a geodataframe\n",
    "#tt_x = gpd.GeoDataFrame(tt_, crs=CRS, geometry ='geometry')\n",
    "\n",
    "#check the output\n",
    "#tt_x.head()"
   ]
  },
  {
   "cell_type": "markdown",
   "metadata": {},
   "source": [
    "##### Save the geodataframe into shapefile which has a unique number (the YKR_ID)"
   ]
  },
  {
   "cell_type": "code",
   "execution_count": 20,
   "metadata": {},
   "outputs": [],
   "source": [
    "tt_x.to_file(filename = YKR_ID)"
   ]
  },
  {
   "cell_type": "code",
   "execution_count": null,
   "metadata": {},
   "outputs": [],
   "source": []
  }
 ],
 "metadata": {
  "kernelspec": {
   "display_name": "Python 3",
   "language": "python",
   "name": "python3"
  },
  "language_info": {
   "codemirror_mode": {
    "name": "ipython",
    "version": 3
   },
   "file_extension": ".py",
   "mimetype": "text/x-python",
   "name": "python",
   "nbconvert_exporter": "python",
   "pygments_lexer": "ipython3",
   "version": "3.6.5"
  }
 },
 "nbformat": 4,
 "nbformat_minor": 2
}
