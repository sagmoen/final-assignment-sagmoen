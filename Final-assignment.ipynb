{
 "cells": [
  {
   "cell_type": "markdown",
   "metadata": {},
   "source": [
    "## Final Assignment "
   ]
  },
  {
   "cell_type": "markdown",
   "metadata": {},
   "source": [
    "#### Part 1 and 2\n",
    "1. The first part of AccessViz finds the from the data/TravelTimes folder the traveltimes-text files the user specifies with by YKR_ID in the YKR_ID_list in the start of the code.\n",
    "\n",
    "2. After finding the specified traveltimes-txt files, this code reads the files and stores them into a folder data/shapefiles. The shapefiles are named the YKR_ID of the file. (eg. 5878087.shp)\n"
   ]
  },
  {
   "cell_type": "code",
   "execution_count": 11,
   "metadata": {},
   "outputs": [
    {
     "data": {
      "text/plain": [
       "{'proj': 'utm', 'zone': 35, 'ellps': 'GRS80', 'units': 'm', 'no_defs': True}"
      ]
     },
     "execution_count": 11,
     "metadata": {},
     "output_type": "execute_result"
    }
   ],
   "source": [
    "import geopandas as gpd\n",
    "import pandas as pd\n",
    "import os\n",
    "\n",
    "#read and take a look at the YKR_grid shp file \n",
    "grid_fp = 'data/MetropAccess_YKR_grid/MetropAccess_YKR_grid_EurefFIN.shp'\n",
    "\n",
    "#read the file\n",
    "grid = gpd.read_file(grid_fp)\n",
    "\n",
    "# Change the name of YKR_ID to from_id, to enable the join\n",
    "grid.rename(columns={'YKR_ID': 'from_id'}, inplace=True)\n",
    "\n",
    "# See the column names and confirm that we now have a column called 'from_id'\n",
    "grid.head()\n",
    "grid.crs"
   ]
  },
  {
   "cell_type": "markdown",
   "metadata": {},
   "source": [
    "1. This first part of the code finds all the textfiles in the data/TravelTime folder, and then store each of the traveltime modes into a shapefile named the YKR_ID number of the file. <br />\n",
    "\n",
    "2. The user has to specify which YKR_IDs she/he wants to use in YKR_ID, where it says \"specify YKR_IDs here!\"<br />\n",
    "\n",
    "3. The rest of the code reads in the .txt-files to pandad dataframe, converst it into a geopandas dataframe and stores each of the geodataframes into shapefiles called the YKR_ID number of the text file. \n",
    "\n",
    "4. I tried to write the code in a way that would say if the YKR_ID did not exist in the data/TravelTime-folder. My code would not work when I tried that, so i decided to leave it out, in order to make the code work. At the bottom of this markadown cell is the code I used for trying. I am pretty sure that the error is in how I coded the 'if'-statement, and I tried different ways, but non of the worked.\n",
    "\n",
    "5. I also did not manage to write my code in a way that would inform the user about how the progression in the reading of files is going.\n",
    "\n",
    "```\n",
    "for YKR_ID in YKR_IDs: \n",
    "    #create path where the file is found\n",
    "    path = ('data/TravelTimes/travel_times_to_')\n",
    "    #create empty list where the filepath coresponding to YKR_ID-list can be stored.\n",
    "    fp_list = []\n",
    "    #create filepaths\n",
    "    filepath = os.path.join(path + YKR_ID + '.txt')\n",
    "    #append filepaths to the fp_list.\n",
    "    fp_list.append(filepath)\n",
    "    #print(fp_list)\n",
    "    ```\n",
    "```        \n",
    "    #iterate over the filepaths stored in the fp_list\n",
    "    for idx, fp in enumerate(fp_list):\n",
    "        print(fp) \n",
    "    ```\n",
    "\n",
    "```\n",
    "'''if filepath does not exist in folder, print that the the filepath does not exist in the folder'''\n",
    "        if fp is not in filepaths:\n",
    "             print('This YKR_ID does not exist in folder')\n",
    "             ```\n",
    "```                \n",
    "'''if the filepath exists in the filepaths list over files in the folder, create this into a dataframe'''\n",
    "        else:\n",
    "        data_ = pd.read_csv(fp, sep=';', usecols = ['from_id', 'pt_r_t'])\n",
    "        print(data_.head())\n",
    "```"
   ]
  },
  {
   "cell_type": "code",
   "execution_count": 12,
   "metadata": {},
   "outputs": [],
   "source": [
    "#specify YKR_IDs here!\n",
    "YKR_ID_list = ['5975373', '5878087']"
   ]
  },
  {
   "cell_type": "code",
   "execution_count": 13,
   "metadata": {},
   "outputs": [],
   "source": [
    "import glob\n",
    "import os\n",
    "import geopandas as gpd\n",
    "import pandas as pd\n",
    "\n",
    "#find all txt files in data/TravelTimes folder\n",
    "all_filepaths = glob.glob('data/TravelTimes/*.txt')\n",
    "#print(filepaths)\n",
    "\n",
    "#list of YKR_IDs I want to import: \n",
    "YKR_IDs = YKR_ID_list\n",
    "\n",
    "#Find filepaths for files specified in YKR_IDs \n",
    "for YKR_ID in YKR_IDs: \n",
    "    #create path where the file is found\n",
    "    path = ('data/TravelTimes/travel_times_to_')\n",
    "    #create empty list where the filepath coresponding to YKR_ID-list can be stored.\n",
    "    fp_list = []\n",
    "    #create filepaths\n",
    "    filepath = os.path.join(path + YKR_ID + '.txt')\n",
    "    #append filepaths to the fp_list.\n",
    "    fp_list.append(filepath)\n",
    "    #print(fp_list)"
   ]
  },
  {
   "cell_type": "code",
   "execution_count": 4,
   "metadata": {},
   "outputs": [
    {
     "name": "stdout",
     "output_type": "stream",
     "text": [
      "{'proj': 'utm', 'zone': 35, 'ellps': 'GRS80', 'units': 'm', 'no_defs': True}\n"
     ]
    },
    {
     "ename": "KeyboardInterrupt",
     "evalue": "",
     "output_type": "error",
     "traceback": [
      "\u001b[0;31m---------------------------------------------------------------------------\u001b[0m",
      "\u001b[0;31mKeyboardInterrupt\u001b[0m                         Traceback (most recent call last)",
      "\u001b[0;32m<ipython-input-4-50b5bfd6345c>\u001b[0m in \u001b[0;36m<module>\u001b[0;34m()\u001b[0m\n\u001b[1;32m     27\u001b[0m         \u001b[0mout_p\u001b[0m \u001b[0;34m=\u001b[0m \u001b[0;34m(\u001b[0m\u001b[0;34m'data/shapefiles/'\u001b[0m\u001b[0;34m)\u001b[0m\u001b[0;34m\u001b[0m\u001b[0m\n\u001b[1;32m     28\u001b[0m         \u001b[0mout_fp\u001b[0m \u001b[0;34m=\u001b[0m \u001b[0mos\u001b[0m\u001b[0;34m.\u001b[0m\u001b[0mpath\u001b[0m\u001b[0;34m.\u001b[0m\u001b[0mjoin\u001b[0m\u001b[0;34m(\u001b[0m\u001b[0mout_p\u001b[0m \u001b[0;34m+\u001b[0m \u001b[0mYKR_ID\u001b[0m \u001b[0;34m+\u001b[0m \u001b[0;34m'.shp'\u001b[0m\u001b[0;34m)\u001b[0m\u001b[0;34m\u001b[0m\u001b[0m\n\u001b[0;32m---> 29\u001b[0;31m         \u001b[0mtravel_times\u001b[0m\u001b[0;34m.\u001b[0m\u001b[0mto_file\u001b[0m\u001b[0;34m(\u001b[0m\u001b[0mout_fp\u001b[0m\u001b[0;34m)\u001b[0m\u001b[0;34m\u001b[0m\u001b[0m\n\u001b[0m\u001b[1;32m     30\u001b[0m \u001b[0;34m\u001b[0m\u001b[0m\n",
      "\u001b[0;32m/opt/conda/lib/python3.6/site-packages/geopandas/geodataframe.py\u001b[0m in \u001b[0;36mto_file\u001b[0;34m(self, filename, driver, schema, **kwargs)\u001b[0m\n\u001b[1;32m    411\u001b[0m         \"\"\"\n\u001b[1;32m    412\u001b[0m         \u001b[0;32mfrom\u001b[0m \u001b[0mgeopandas\u001b[0m\u001b[0;34m.\u001b[0m\u001b[0mio\u001b[0m\u001b[0;34m.\u001b[0m\u001b[0mfile\u001b[0m \u001b[0;32mimport\u001b[0m \u001b[0mto_file\u001b[0m\u001b[0;34m\u001b[0m\u001b[0m\n\u001b[0;32m--> 413\u001b[0;31m         \u001b[0mto_file\u001b[0m\u001b[0;34m(\u001b[0m\u001b[0mself\u001b[0m\u001b[0;34m,\u001b[0m \u001b[0mfilename\u001b[0m\u001b[0;34m,\u001b[0m \u001b[0mdriver\u001b[0m\u001b[0;34m,\u001b[0m \u001b[0mschema\u001b[0m\u001b[0;34m,\u001b[0m \u001b[0;34m**\u001b[0m\u001b[0mkwargs\u001b[0m\u001b[0;34m)\u001b[0m\u001b[0;34m\u001b[0m\u001b[0m\n\u001b[0m\u001b[1;32m    414\u001b[0m \u001b[0;34m\u001b[0m\u001b[0m\n\u001b[1;32m    415\u001b[0m     \u001b[0;32mdef\u001b[0m \u001b[0mto_crs\u001b[0m\u001b[0;34m(\u001b[0m\u001b[0mself\u001b[0m\u001b[0;34m,\u001b[0m \u001b[0mcrs\u001b[0m\u001b[0;34m=\u001b[0m\u001b[0;32mNone\u001b[0m\u001b[0;34m,\u001b[0m \u001b[0mepsg\u001b[0m\u001b[0;34m=\u001b[0m\u001b[0;32mNone\u001b[0m\u001b[0;34m,\u001b[0m \u001b[0minplace\u001b[0m\u001b[0;34m=\u001b[0m\u001b[0;32mFalse\u001b[0m\u001b[0;34m)\u001b[0m\u001b[0;34m:\u001b[0m\u001b[0;34m\u001b[0m\u001b[0m\n",
      "\u001b[0;32m/opt/conda/lib/python3.6/site-packages/geopandas/io/file.py\u001b[0m in \u001b[0;36mto_file\u001b[0;34m(df, filename, driver, schema, **kwargs)\u001b[0m\n\u001b[1;32m    109\u001b[0m         with fiona.open(filename, 'w', driver=driver, crs=df.crs,\n\u001b[1;32m    110\u001b[0m                         schema=schema, **kwargs) as colxn:\n\u001b[0;32m--> 111\u001b[0;31m             \u001b[0mcolxn\u001b[0m\u001b[0;34m.\u001b[0m\u001b[0mwriterecords\u001b[0m\u001b[0;34m(\u001b[0m\u001b[0mdf\u001b[0m\u001b[0;34m.\u001b[0m\u001b[0miterfeatures\u001b[0m\u001b[0;34m(\u001b[0m\u001b[0;34m)\u001b[0m\u001b[0;34m)\u001b[0m\u001b[0;34m\u001b[0m\u001b[0m\n\u001b[0m\u001b[1;32m    112\u001b[0m \u001b[0;34m\u001b[0m\u001b[0m\n\u001b[1;32m    113\u001b[0m \u001b[0;34m\u001b[0m\u001b[0m\n",
      "\u001b[0;32m/opt/conda/lib/python3.6/site-packages/fiona/collection.py\u001b[0m in \u001b[0;36mwriterecords\u001b[0;34m(self, records)\u001b[0m\n\u001b[1;32m    333\u001b[0m         \u001b[0;32mif\u001b[0m \u001b[0mself\u001b[0m\u001b[0;34m.\u001b[0m\u001b[0mmode\u001b[0m \u001b[0;32mnot\u001b[0m \u001b[0;32min\u001b[0m \u001b[0;34m(\u001b[0m\u001b[0;34m'a'\u001b[0m\u001b[0;34m,\u001b[0m \u001b[0;34m'w'\u001b[0m\u001b[0;34m)\u001b[0m\u001b[0;34m:\u001b[0m\u001b[0;34m\u001b[0m\u001b[0m\n\u001b[1;32m    334\u001b[0m             \u001b[0;32mraise\u001b[0m \u001b[0mIOError\u001b[0m\u001b[0;34m(\u001b[0m\u001b[0;34m\"collection not open for writing\"\u001b[0m\u001b[0;34m)\u001b[0m\u001b[0;34m\u001b[0m\u001b[0m\n\u001b[0;32m--> 335\u001b[0;31m         \u001b[0mself\u001b[0m\u001b[0;34m.\u001b[0m\u001b[0msession\u001b[0m\u001b[0;34m.\u001b[0m\u001b[0mwriterecs\u001b[0m\u001b[0;34m(\u001b[0m\u001b[0mrecords\u001b[0m\u001b[0;34m,\u001b[0m \u001b[0mself\u001b[0m\u001b[0;34m)\u001b[0m\u001b[0;34m\u001b[0m\u001b[0m\n\u001b[0m\u001b[1;32m    336\u001b[0m         \u001b[0mself\u001b[0m\u001b[0;34m.\u001b[0m\u001b[0m_len\u001b[0m \u001b[0;34m=\u001b[0m \u001b[0mself\u001b[0m\u001b[0;34m.\u001b[0m\u001b[0msession\u001b[0m\u001b[0;34m.\u001b[0m\u001b[0mget_length\u001b[0m\u001b[0;34m(\u001b[0m\u001b[0;34m)\u001b[0m\u001b[0;34m\u001b[0m\u001b[0m\n\u001b[1;32m    337\u001b[0m         \u001b[0mself\u001b[0m\u001b[0;34m.\u001b[0m\u001b[0m_bounds\u001b[0m \u001b[0;34m=\u001b[0m \u001b[0mself\u001b[0m\u001b[0;34m.\u001b[0m\u001b[0msession\u001b[0m\u001b[0;34m.\u001b[0m\u001b[0mget_extent\u001b[0m\u001b[0;34m(\u001b[0m\u001b[0;34m)\u001b[0m\u001b[0;34m\u001b[0m\u001b[0m\n",
      "\u001b[0;32mfiona/ogrext.pyx\u001b[0m in \u001b[0;36mfiona.ogrext.WritingSession.writerecs\u001b[0;34m()\u001b[0m\n",
      "\u001b[0;32m/opt/conda/lib/python3.6/site-packages/geopandas/geodataframe.py\u001b[0m in \u001b[0;36miterfeatures\u001b[0;34m(self, na, show_bbox)\u001b[0m\n\u001b[1;32m    367\u001b[0m                 \u001b[0mfeature\u001b[0m\u001b[0;34m[\u001b[0m\u001b[0;34m'bbox'\u001b[0m\u001b[0;34m]\u001b[0m \u001b[0;34m=\u001b[0m \u001b[0mrow\u001b[0m\u001b[0;34m.\u001b[0m\u001b[0mgeometry\u001b[0m\u001b[0;34m.\u001b[0m\u001b[0mbounds\u001b[0m\u001b[0;34m\u001b[0m\u001b[0m\n\u001b[1;32m    368\u001b[0m \u001b[0;34m\u001b[0m\u001b[0m\n\u001b[0;32m--> 369\u001b[0;31m             \u001b[0;32myield\u001b[0m \u001b[0mfeature\u001b[0m\u001b[0;34m\u001b[0m\u001b[0m\n\u001b[0m\u001b[1;32m    370\u001b[0m \u001b[0;34m\u001b[0m\u001b[0m\n\u001b[1;32m    371\u001b[0m     \u001b[0;32mdef\u001b[0m \u001b[0m_to_geo\u001b[0m\u001b[0;34m(\u001b[0m\u001b[0mself\u001b[0m\u001b[0;34m,\u001b[0m \u001b[0;34m**\u001b[0m\u001b[0mkwargs\u001b[0m\u001b[0;34m)\u001b[0m\u001b[0;34m:\u001b[0m\u001b[0;34m\u001b[0m\u001b[0m\n",
      "\u001b[0;31mKeyboardInterrupt\u001b[0m: "
     ]
    }
   ],
   "source": [
    "    #iterate over the filepaths stored in the fp_list\n",
    "    for idx, fp in enumerate(fp_list):\n",
    "        #print(fp)\n",
    "        \n",
    "        #read the data to dataframe\n",
    "        data_ = pd.read_csv(fp, sep=';')\n",
    "        #print(data_.head())\n",
    "        \n",
    "        #merge data_ (pd) and grid(gpd) together on 'from_id'  \n",
    "        data = grid.merge(data_, on='from_id')\n",
    "        #data.head()\n",
    "   \n",
    "        #set CRS\n",
    "        CRS = grid.crs\n",
    "\n",
    "        #make in into a geodataframe\n",
    "        travel_times = gpd.GeoDataFrame(data, crs=CRS, geometry ='geometry')\n",
    "        print(travel_times.crs)\n",
    "        \n",
    "        #check the output\n",
    "        #print(travel_times.head())  \n",
    "        \n",
    "        #save the geodataframes into shapefiles called the YKR_ID.shp in the folder shapefiles in data folder.\n",
    "        for travel_time in travel_times.iterrows():\n",
    "            #print(travel_time)\n",
    "            # Create a output path for the data\n",
    "            out_p = ('data/shapefiles/') \n",
    "            out_fp = os.path.join(out_p + YKR_ID + '.shp')\n",
    "            travel_times.to_file(out_fp)\n",
    "     "
   ]
  },
  {
   "cell_type": "code",
   "execution_count": null,
   "metadata": {},
   "outputs": [],
   "source": []
  },
  {
   "cell_type": "markdown",
   "metadata": {},
   "source": [
    "#### PART 3: \n",
    "visualize the travel times of selected YKR_IDs based on the travel mode that the user specifies. It can save those maps into a folder that user specifies. The output maps can be either static or interactive and user can choose which one with a parameter. You can freely design yourself the style of the map, colors, travel time intervals (classes) etc. Try to make the map as informative as possible!\n"
   ]
  },
  {
   "cell_type": "markdown",
   "metadata": {},
   "source": [
    "The user also has to specify which TravelTime column she/he wants to use, where it says \"specify traveltime mode here\". Or else the 'pt_r_t'(public transport, rushour, time) will be used by default. <br />"
   ]
  },
  {
   "cell_type": "code",
   "execution_count": 14,
   "metadata": {},
   "outputs": [
    {
     "name": "stdout",
     "output_type": "stream",
     "text": [
      "['data/shapefiles/5975373.shp', 'data/shapefiles/5878087.shp']\n"
     ]
    }
   ],
   "source": [
    "import glob\n",
    "import os\n",
    "import folium\n",
    "import geopandas as gpd\n",
    "import pandas as pd\n",
    "import matplotlib.pyplot as plt\n",
    "import contextily as ctx\n",
    "%matplotlib inline\n",
    "\n",
    "shp_files = glob.glob('data/shapefiles/*.shp')\n",
    "print(shp_files)\n"
   ]
  },
  {
   "cell_type": "code",
   "execution_count": 18,
   "metadata": {},
   "outputs": [
    {
     "name": "stdout",
     "output_type": "stream",
     "text": [
      "{'proj': 'utm', 'zone': 35, 'ellps': 'GRS80', 'units': 'm', 'no_defs': True}\n"
     ]
    }
   ],
   "source": [
    "#SPECIFY COLUMN YOU WOULD LIKE TO VISUALISE HERE\n",
    "column_for_visualising = \"pt_r_t\"\n",
    "\n",
    "#Static or interactive. Replace 0 with 1 if interactive, static by default. \n",
    "map_type = 0\n",
    "\n",
    "CRS = grid.crs\n",
    "print(CRS)"
   ]
  },
  {
   "cell_type": "code",
   "execution_count": 20,
   "metadata": {},
   "outputs": [
    {
     "name": "stderr",
     "output_type": "stream",
     "text": [
      "/opt/conda/lib/python3.6/site-packages/scipy/stats/stats.py:1713: FutureWarning: Using a non-tuple sequence for multidimensional indexing is deprecated; use `arr[tuple(seq)]` instead of `arr[seq]`. In the future this will be interpreted as an array index, `arr[np.array(seq)]`, which will result either in an error or a different result.\n",
      "  return np.add.reduce(sorted[indexer] * weights, axis=axis) / sumval\n"
     ]
    },
    {
     "data": {
      "image/png": "[encoded data removed]",
      "text/plain": [
       "<Figure size 432x288 with 1 Axes>"
      ]
     },
     "metadata": {},
     "output_type": "display_data"
    },
    {
     "data": {
      "image/png": "[encoded data removed]",
      "text/plain": [
       "<Figure size 432x288 with 1 Axes>"
      ]
     },
     "metadata": {},
     "output_type": "display_data"
    }
   ],
   "source": [
    "for idx, fp in enumerate(shp_files):\n",
    "    #print(fp)\n",
    "    shp_data = gpd.read_file(fp, crs=CRS )\n",
    "    #print(shp_data.head())\n",
    "    #shp_data.crs\n",
    "    \n",
    "    if map_type > 0:\n",
    "        #create interactive map\n",
    "        # Re-project to WGS84\n",
    "        #shp_data = shp_data.to_crs(epsg=4326)\n",
    "        #shp_data.crs\n",
    "\n",
    "        # Create a Geo-id which is needed by the Folium (it needs to have a unique identifier for each row)\n",
    "        shp_data['geoid'] = shp_data.index.astype(str)\n",
    "\n",
    "        # Select only needed columns\n",
    "        shp_data = shp_data[['geoid', column_for_visualising, 'geometry']]\n",
    "        \n",
    "        # Create a Map instance\n",
    "        int_map = folium.Map(location=[60.25, 24.8], tiles = 'cartodbpositron', zoom_start=10, control_scale=True)\n",
    "        \n",
    "        # Plot a choropleth map\n",
    "        int_map.choropleth(\n",
    "            geo_data=shp_data,\n",
    "            name='Population in 2017',\n",
    "            data=shp_data,\n",
    "            columns=['geoid', column_for_visualising, 'geometry'],\n",
    "            key_on='feature.id',\n",
    "            fill_color='YlOrRd',\n",
    "            fill_opacity=0.7,\n",
    "            line_opacity=0.2,\n",
    "            line_color='white',\n",
    "            line_weight=0,\n",
    "            highlight=False,\n",
    "            smooth_factor=1.0,\n",
    "            #threshold_scale=[100, 250, 500, 1000, 2000],\n",
    "            legend_name='Traveltimes to chosen YKR_ID')\n",
    "        #checking the output\n",
    "        int_map\n",
    "        \n",
    "        #saving the map as html-file\n",
    "        out_p_im = ('data/maps')\n",
    "        out_fp_im = os.path.join(out_p_im + YKR_ID + '.html')\n",
    "        int_map.save(out_fp_im)\n",
    "\n",
    "\n",
    "    else:\n",
    "        #create static map using matplotlib.plt\n",
    "        static_map = shp_data.plot(column=column_for_visualising, linewidth=0.03, cmap=\"Reds\", scheme=\"quantiles\", k=7, alpha=0.9, legend=True)\n",
    "    \n",
    "        #get legend and place it at the map\n",
    "        static_map.get_legend().set_title(\"Minutes with transport to YKR_ID by chosen transport\")\n",
    "        static_map.get_legend().set_bbox_to_anchor((1.0, 0.0))\n",
    "    \n",
    "        #set title\n",
    "        static_map.set_title('Travel Times to specified YKR_ID')\n",
    "\n",
    "        #remove empty white-space around the axes\n",
    "        plt.tight_layout()\n",
    "\n",
    "        #add basemap\n",
    "        #ctx.add_basemap(my_map, url = ctx.tile_providers.OSM_A)\n",
    "    \n",
    "        # Save the figure as png file with resolution of 300 dpi\n",
    "        out_p_sm = ('data/maps/')     \n",
    "        out_fp_sm = os.path.join(out_p_sm + YKR_ID + '.png')\n",
    "        plt.savefig(out_fp_sm)\n"
   ]
  },
  {
   "cell_type": "markdown",
   "metadata": {},
   "source": [
    " ##### Part 4\n",
    " compare traveltimes or distances between 2 different travel modes. "
   ]
  },
  {
   "cell_type": "markdown",
   "metadata": {},
   "source": [
    "##### Part 5 \n",
    "Bundled with AccessViz there is also a separate interactive map that shows the YKR grid values in Helsinki region. The purpose of the map is to help the user to choose the YKR-IDs that s/he is interested to visualize / analyze."
   ]
  },
  {
   "cell_type": "code",
   "execution_count": 25,
   "metadata": {},
   "outputs": [
    {
     "data": {
      "text/html": [
       "<div>\n",
       "<style scoped>\n",
       "    .dataframe tbody tr th:only-of-type {\n",
       "        vertical-align: middle;\n",
       "    }\n",
       "\n",
       "    .dataframe tbody tr th {\n",
       "        vertical-align: top;\n",
       "    }\n",
       "\n",
       "    .dataframe thead th {\n",
       "        text-align: right;\n",
       "    }\n",
       "</style>\n",
       "<table border=\"1\" class=\"dataframe\">\n",
       "  <thead>\n",
       "    <tr style=\"text-align: right;\">\n",
       "      <th></th>\n",
       "      <th>x</th>\n",
       "      <th>y</th>\n",
       "      <th>YKR_ID</th>\n",
       "      <th>geometry</th>\n",
       "    </tr>\n",
       "  </thead>\n",
       "  <tbody>\n",
       "    <tr>\n",
       "      <th>0</th>\n",
       "      <td>381875.0</td>\n",
       "      <td>6697880.0</td>\n",
       "      <td>5785640</td>\n",
       "      <td>POLYGON ((382000.0001388059 6697750.000128186,...</td>\n",
       "    </tr>\n",
       "    <tr>\n",
       "      <th>1</th>\n",
       "      <td>382125.0</td>\n",
       "      <td>6697880.0</td>\n",
       "      <td>5785641</td>\n",
       "      <td>POLYGON ((382250.00013875 6697750.000128181, 3...</td>\n",
       "    </tr>\n",
       "    <tr>\n",
       "      <th>2</th>\n",
       "      <td>382375.0</td>\n",
       "      <td>6697880.0</td>\n",
       "      <td>5785642</td>\n",
       "      <td>POLYGON ((382500.0001386951 6697750.000128172,...</td>\n",
       "    </tr>\n",
       "    <tr>\n",
       "      <th>3</th>\n",
       "      <td>382625.0</td>\n",
       "      <td>6697880.0</td>\n",
       "      <td>5785643</td>\n",
       "      <td>POLYGON ((382750.0001386406 6697750.000128165,...</td>\n",
       "    </tr>\n",
       "    <tr>\n",
       "      <th>4</th>\n",
       "      <td>381125.0</td>\n",
       "      <td>6697630.0</td>\n",
       "      <td>5787544</td>\n",
       "      <td>POLYGON ((381250.000138978 6697500.000128254, ...</td>\n",
       "    </tr>\n",
       "  </tbody>\n",
       "</table>\n",
       "</div>"
      ],
      "text/plain": [
       "          x          y   YKR_ID  \\\n",
       "0  381875.0  6697880.0  5785640   \n",
       "1  382125.0  6697880.0  5785641   \n",
       "2  382375.0  6697880.0  5785642   \n",
       "3  382625.0  6697880.0  5785643   \n",
       "4  381125.0  6697630.0  5787544   \n",
       "\n",
       "                                            geometry  \n",
       "0  POLYGON ((382000.0001388059 6697750.000128186,...  \n",
       "1  POLYGON ((382250.00013875 6697750.000128181, 3...  \n",
       "2  POLYGON ((382500.0001386951 6697750.000128172,...  \n",
       "3  POLYGON ((382750.0001386406 6697750.000128165,...  \n",
       "4  POLYGON ((381250.000138978 6697500.000128254, ...  "
      ]
     },
     "execution_count": 25,
     "metadata": {},
     "output_type": "execute_result"
    }
   ],
   "source": [
    "import geopandas as gpd\n",
    "import pandas as pd\n",
    "import os\n",
    "\n",
    "#read and take a look at the YKR_grid shp file \n",
    "grid_fp = 'data/MetropAccess_YKR_grid/MetropAccess_YKR_grid_EurefFIN.shp'\n",
    "\n",
    "#read the file\n",
    "grid = gpd.read_file(grid_fp)\n",
    "\n",
    "# See the column names and confirm that we now have a column called 'from_id'\n",
    "grid.head()\n",
    "#grid.crs"
   ]
  },
  {
   "cell_type": "code",
   "execution_count": 42,
   "metadata": {},
   "outputs": [
    {
     "name": "stdout",
     "output_type": "stream",
     "text": [
      "{'init': 'epsg:4326', 'no_defs': True}\n"
     ]
    },
    {
     "data": {
      "text/html": [
       "<div>\n",
       "<style scoped>\n",
       "    .dataframe tbody tr th:only-of-type {\n",
       "        vertical-align: middle;\n",
       "    }\n",
       "\n",
       "    .dataframe tbody tr th {\n",
       "        vertical-align: top;\n",
       "    }\n",
       "\n",
       "    .dataframe thead th {\n",
       "        text-align: right;\n",
       "    }\n",
       "</style>\n",
       "<table border=\"1\" class=\"dataframe\">\n",
       "  <thead>\n",
       "    <tr style=\"text-align: right;\">\n",
       "      <th></th>\n",
       "      <th>geoid</th>\n",
       "      <th>YKR_ID</th>\n",
       "      <th>geometry</th>\n",
       "    </tr>\n",
       "  </thead>\n",
       "  <tbody>\n",
       "    <tr>\n",
       "      <th>0</th>\n",
       "      <td>0</td>\n",
       "      <td>5785640</td>\n",
       "      <td>POLYGON ((24.85837499047041 60.39885552313355,...</td>\n",
       "    </tr>\n",
       "    <tr>\n",
       "      <th>1</th>\n",
       "      <td>1</td>\n",
       "      <td>5785641</td>\n",
       "      <td>POLYGON ((24.86290863246012 60.39892838104311,...</td>\n",
       "    </tr>\n",
       "    <tr>\n",
       "      <th>2</th>\n",
       "      <td>2</td>\n",
       "      <td>5785642</td>\n",
       "      <td>POLYGON ((24.86744229796249 60.39900108467782,...</td>\n",
       "    </tr>\n",
       "    <tr>\n",
       "      <th>3</th>\n",
       "      <td>3</td>\n",
       "      <td>5785643</td>\n",
       "      <td>POLYGON ((24.87197598692784 60.39907363403609,...</td>\n",
       "    </tr>\n",
       "    <tr>\n",
       "      <th>4</th>\n",
       "      <td>4</td>\n",
       "      <td>5787544</td>\n",
       "      <td>POLYGON ((24.8449225401965 60.39639293214371, ...</td>\n",
       "    </tr>\n",
       "  </tbody>\n",
       "</table>\n",
       "</div>"
      ],
      "text/plain": [
       "  geoid   YKR_ID                                           geometry\n",
       "0     0  5785640  POLYGON ((24.85837499047041 60.39885552313355,...\n",
       "1     1  5785641  POLYGON ((24.86290863246012 60.39892838104311,...\n",
       "2     2  5785642  POLYGON ((24.86744229796249 60.39900108467782,...\n",
       "3     3  5785643  POLYGON ((24.87197598692784 60.39907363403609,...\n",
       "4     4  5787544  POLYGON ((24.8449225401965 60.39639293214371, ..."
      ]
     },
     "execution_count": 42,
     "metadata": {},
     "output_type": "execute_result"
    }
   ],
   "source": [
    "# Re-project to WGS84\n",
    "grid = grid.to_crs(epsg=4326)\n",
    "\n",
    "# Check layer crs definition\n",
    "print(grid.crs)\n",
    "\n",
    "# Make a selection (only data above 0 and below 1000)\n",
    "\n",
    "# Create a Geo-id which is needed by the Folium (it needs to have a unique identifier for each row)\n",
    "grid['geoid'] = data.index.astype(str)\n",
    "\n",
    "# Select only needed columns\n",
    "grid = grid[['geoid', 'YKR_ID', 'geometry']]\n",
    "\n",
    "# Convert to geojson (not needed for the simple coropleth map!)\n",
    "#YKRID_json = grid.to_json()\n",
    "\n",
    "#check data\n",
    "grid.head()\n"
   ]
  },
  {
   "cell_type": "code",
   "execution_count": 48,
   "metadata": {},
   "outputs": [
    {
     "ename": "ImportError",
     "evalue": "cannot import name 'MousePosition'",
     "output_type": "error",
     "traceback": [
      "\u001b[0;31m---------------------------------------------------------------------------\u001b[0m",
      "\u001b[0;31mImportError\u001b[0m                               Traceback (most recent call last)",
      "\u001b[0;32m<ipython-input-48-57fe53236715>\u001b[0m in \u001b[0;36m<module>\u001b[0;34m()\u001b[0m\n\u001b[1;32m      1\u001b[0m \u001b[0;32mimport\u001b[0m \u001b[0mfolium\u001b[0m\u001b[0;34m\u001b[0m\u001b[0m\n\u001b[0;32m----> 2\u001b[0;31m \u001b[0;32mfrom\u001b[0m \u001b[0mfolium\u001b[0m\u001b[0;34m.\u001b[0m\u001b[0mplugins\u001b[0m \u001b[0;32mimport\u001b[0m \u001b[0mMousePosition\u001b[0m\u001b[0;34m\u001b[0m\u001b[0m\n\u001b[0m\u001b[1;32m      3\u001b[0m \u001b[0;34m\u001b[0m\u001b[0m\n\u001b[1;32m      4\u001b[0m \u001b[0;31m# Create a Map instance\u001b[0m\u001b[0;34m\u001b[0m\u001b[0;34m\u001b[0m\u001b[0m\n\u001b[1;32m      5\u001b[0m \u001b[0mYKRID_map\u001b[0m \u001b[0;34m=\u001b[0m \u001b[0mfolium\u001b[0m\u001b[0;34m.\u001b[0m\u001b[0mMap\u001b[0m\u001b[0;34m(\u001b[0m\u001b[0mlocation\u001b[0m\u001b[0;34m=\u001b[0m\u001b[0;34m[\u001b[0m\u001b[0;36m60.25\u001b[0m\u001b[0;34m,\u001b[0m \u001b[0;36m24.8\u001b[0m\u001b[0;34m]\u001b[0m\u001b[0;34m,\u001b[0m \u001b[0mtiles\u001b[0m \u001b[0;34m=\u001b[0m \u001b[0;34m'cartodbpositron'\u001b[0m\u001b[0;34m,\u001b[0m \u001b[0mzoom_start\u001b[0m\u001b[0;34m=\u001b[0m\u001b[0;36m10\u001b[0m\u001b[0;34m,\u001b[0m \u001b[0mcontrol_scale\u001b[0m\u001b[0;34m=\u001b[0m\u001b[0;32mTrue\u001b[0m\u001b[0;34m)\u001b[0m\u001b[0;34m\u001b[0m\u001b[0m\n",
      "\u001b[0;31mImportError\u001b[0m: cannot import name 'MousePosition'"
     ]
    }
   ],
   "source": [
    "import folium\n",
    "from folium.plugins import MousePosition\n",
    "\n",
    "# Create a Map instance\n",
    "YKRID_map = folium.Map(location=[60.25, 24.8], tiles = 'cartodbpositron', zoom_start=10, control_scale=True)\n",
    "\n",
    "folium.MousePosition(position='bottomright', separator=' : ', empty_string='Unavailable', lng_first=False, num_digits=5, prefix='', lat_formatter=None, lng_formatter=None)\n"
   ]
  },
  {
   "cell_type": "code",
   "execution_count": null,
   "metadata": {},
   "outputs": [],
   "source": [
    "# Plot a choropleth map\n",
    "YKRID_map.choropleth(\n",
    "    geo_data=grid,\n",
    "    name='Population in 2017',\n",
    "    data=grid,\n",
    "    columns=['geoid', 'YKR_ID'],\n",
    "    key_on='feature.id',\n",
    "    fill_color='YlOrRd',\n",
    "    fill_opacity=0.7,\n",
    "    line_opacity=0.2,\n",
    "    line_color='white',\n",
    "    line_weight=0,\n",
    "    highlight=False,\n",
    "    smooth_factor=1.0,\n",
    "    #threshold_scale=[100, 250, 500, 1000, 2000],\n",
    "    legend_name= 'YKR_ID cells, Helsinki')\n",
    "\n",
    "#saving the map\n",
    "out_YKRID_map_fp = \"data/maps/YKR_ID_cells_Helsinki.html\"\n",
    "YKRID_map.save(out_YKRID_map_fp)\n",
    "\n",
    "#Show map\n",
    "YKRID_map"
   ]
  },
  {
   "cell_type": "code",
   "execution_count": null,
   "metadata": {},
   "outputs": [],
   "source": []
  }
 ],
 "metadata": {
  "kernelspec": {
   "display_name": "Python 3",
   "language": "python",
   "name": "python3"
  },
  "language_info": {
   "codemirror_mode": {
    "name": "ipython",
    "version": 3
   },
   "file_extension": ".py",
   "mimetype": "text/x-python",
   "name": "python",
   "nbconvert_exporter": "python",
   "pygments_lexer": "ipython3",
   "version": "3.6.5"
  }
 },
 "nbformat": 4,
 "nbformat_minor": 2
}
