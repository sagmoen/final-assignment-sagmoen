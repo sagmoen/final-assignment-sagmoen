{
 "cells": [
  {
   "cell_type": "markdown",
   "metadata": {},
   "source": [
    "## Final Assignment "
   ]
  },
  {
   "cell_type": "markdown",
   "metadata": {},
   "source": [
    "#### Part 1. \n",
    "This AccessViz finds the from the datafolder all the matrices that the user has specified by assigning a list of integer\n",
    "values that corresponds to YKR_ID found from the MetropAccess_YKR_grid. \n",
    "     - AccessViz should inform the user about how the execution process is going. "
   ]
  },
  {
   "cell_type": "markdown",
   "metadata": {},
   "source": []
  },
  {
   "cell_type": "markdown",
   "metadata": {},
   "source": [
    "##### Find datafiles using os.path.join()-function. \n",
    "- This should work for all of the files in the Helsinki Travel Times folder, the user just has to pas the the YKR_IDs as a list of integers, with the seperator ';'. \n",
    "- I should also manage to tell the user how the executing process is going for the files. "
   ]
  },
  {
   "cell_type": "code",
   "execution_count": 1,
   "metadata": {},
   "outputs": [
    {
     "data": {
      "text/html": [
       "<div>\n",
       "<style scoped>\n",
       "    .dataframe tbody tr th:only-of-type {\n",
       "        vertical-align: middle;\n",
       "    }\n",
       "\n",
       "    .dataframe tbody tr th {\n",
       "        vertical-align: top;\n",
       "    }\n",
       "\n",
       "    .dataframe thead th {\n",
       "        text-align: right;\n",
       "    }\n",
       "</style>\n",
       "<table border=\"1\" class=\"dataframe\">\n",
       "  <thead>\n",
       "    <tr style=\"text-align: right;\">\n",
       "      <th></th>\n",
       "      <th>x</th>\n",
       "      <th>y</th>\n",
       "      <th>from_id</th>\n",
       "      <th>geometry</th>\n",
       "    </tr>\n",
       "  </thead>\n",
       "  <tbody>\n",
       "    <tr>\n",
       "      <th>0</th>\n",
       "      <td>381875.0</td>\n",
       "      <td>6697880.0</td>\n",
       "      <td>5785640</td>\n",
       "      <td>POLYGON ((382000.0001388059 6697750.000128186,...</td>\n",
       "    </tr>\n",
       "    <tr>\n",
       "      <th>1</th>\n",
       "      <td>382125.0</td>\n",
       "      <td>6697880.0</td>\n",
       "      <td>5785641</td>\n",
       "      <td>POLYGON ((382250.00013875 6697750.000128181, 3...</td>\n",
       "    </tr>\n",
       "    <tr>\n",
       "      <th>2</th>\n",
       "      <td>382375.0</td>\n",
       "      <td>6697880.0</td>\n",
       "      <td>5785642</td>\n",
       "      <td>POLYGON ((382500.0001386951 6697750.000128172,...</td>\n",
       "    </tr>\n",
       "    <tr>\n",
       "      <th>3</th>\n",
       "      <td>382625.0</td>\n",
       "      <td>6697880.0</td>\n",
       "      <td>5785643</td>\n",
       "      <td>POLYGON ((382750.0001386406 6697750.000128165,...</td>\n",
       "    </tr>\n",
       "    <tr>\n",
       "      <th>4</th>\n",
       "      <td>381125.0</td>\n",
       "      <td>6697630.0</td>\n",
       "      <td>5787544</td>\n",
       "      <td>POLYGON ((381250.000138978 6697500.000128254, ...</td>\n",
       "    </tr>\n",
       "  </tbody>\n",
       "</table>\n",
       "</div>"
      ],
      "text/plain": [
       "          x          y  from_id  \\\n",
       "0  381875.0  6697880.0  5785640   \n",
       "1  382125.0  6697880.0  5785641   \n",
       "2  382375.0  6697880.0  5785642   \n",
       "3  382625.0  6697880.0  5785643   \n",
       "4  381125.0  6697630.0  5787544   \n",
       "\n",
       "                                            geometry  \n",
       "0  POLYGON ((382000.0001388059 6697750.000128186,...  \n",
       "1  POLYGON ((382250.00013875 6697750.000128181, 3...  \n",
       "2  POLYGON ((382500.0001386951 6697750.000128172,...  \n",
       "3  POLYGON ((382750.0001386406 6697750.000128165,...  \n",
       "4  POLYGON ((381250.000138978 6697500.000128254, ...  "
      ]
     },
     "execution_count": 1,
     "metadata": {},
     "output_type": "execute_result"
    }
   ],
   "source": [
    "import geopandas as gpd\n",
    "import pandas as pd\n",
    "import os\n",
    "\n",
    "#read and take a look at the YKR_grid shp file \n",
    "grid_fp = 'data/MetropAccess_YKR_grid/MetropAccess_YKR_grid_EurefFIN.shp'\n",
    "\n",
    "#read the file\n",
    "grid = gpd.read_file(grid_fp)\n",
    "\n",
    "# Change the name of YKR_ID to from_id, to enable the join\n",
    "grid.rename(columns={'YKR_ID': 'from_id'}, inplace=True)\n",
    "\n",
    "# See the column names and confirm that we now have a column called 'from_id'\n",
    "grid.head()\n",
    "#grid.crs"
   ]
  },
  {
   "cell_type": "code",
   "execution_count": null,
   "metadata": {},
   "outputs": [],
   "source": [
    "import glob\n",
    "import os\n",
    "import geopandas as gpd\n",
    "import pandas as pd\n",
    "\n",
    "#find all txt files in data/TravelTimes folder\n",
    "all_filepaths = glob.glob('data/TravelTimes/*.txt')\n",
    "#print(filepaths)\n",
    "\n",
    "#list of YKR_IDs I want to import: \n",
    "YKR_IDs = ['5975373', '5878087']#, '5855714'\n",
    "\n",
    "#Find filepaths for files specified in YKR_IDs \n",
    "for YKR_ID in YKR_IDs: \n",
    "    #create path where the file is found\n",
    "    path = ('data/TravelTimes/travel_times_to_')\n",
    "    #create empty list where the filepath coresponding to YKR_ID-list can be stored.\n",
    "    fp_list = []\n",
    "    #create filepaths\n",
    "    filepath = os.path.join(path + YKR_ID + '.txt')\n",
    "    #append filepaths to the fp_list.\n",
    "    fp_list.append(filepath)\n",
    "    #print(fp_list)\n",
    "        \n",
    "    #iterate over the filepaths stored in the fp_list\n",
    "    for idx, fp in enumerate(fp_list):\n",
    "        #print(fp)\n",
    "        \n",
    "    #'''if filepath does not exist in folder, print that the the filepath does not exist in the folder'''\n",
    "        #if fp does not exist filepaths:\n",
    "             #print('This YKR_ID does not exist in folder')\n",
    "                \n",
    "    #'''if the filepath exists in the filepaths list over files in the folder, create this into a dataframe'''\n",
    "        #else:         \n",
    "        data_ = pd.read_csv(fp, sep=';', usecols = ['from_id', 'pt_r_t'])\n",
    "        #print(data_.head())\n",
    "        \n",
    "        #merge data_ (pd) and grid(gpd) together on 'from_id'  \n",
    "        data = grid.merge(data_, on='from_id')\n",
    "        #data.head()\n",
    "   \n",
    "        #Create into geodataframe\n",
    "        #set CRS\n",
    "        CRS = grid.crs\n",
    "\n",
    "        #make in into a geodataframe\n",
    "        travel_times = gpd.GeoDataFrame(data, crs=CRS, geometry ='geometry')\n",
    "        \n",
    "        #check the output\n",
    "        print(travel_times.head())  \n",
    "        \n",
    "        #save the geodataframes into shapefiles called the YKR_ID.shp in the folder shapefiles in data folder.\n",
    "        for travel_time in travel_times:\n",
    "            #print(travel_time)\n",
    "            # Create a output path for the data\n",
    "            out_p = ('data/shapefiles/') \n",
    "            out_fp = os.path.join(out_p + YKR_ID + '.shp')\n",
    "            travel_times.to_file(out_fp)\n",
    "        \n",
    "           \n",
    "\n"
   ]
  },
  {
   "cell_type": "markdown",
   "metadata": {},
   "source": [
    "#### PART 2: \n",
    "Create Shapefiles from the chosen Matrix text tables (e.g. travel_times_to_5797076.txt) by joining the Matrix file with MetropAccess_YKR_grid Shapefile where from_id in Matrix file corresponds to YKR_ID in the Shapefile. The tool saves the result in the output-folder that user has defined. You should name the files in a way that it is possible to identify the ID from the name (e.g. 5797076)."
   ]
  },
  {
   "cell_type": "markdown",
   "metadata": {},
   "source": [
    "##### Join the two tables into one geodataframe based on YKR_ID and from_id\n"
   ]
  },
  {
   "cell_type": "code",
   "execution_count": 40,
   "metadata": {},
   "outputs": [],
   "source": []
  },
  {
   "cell_type": "markdown",
   "metadata": {},
   "source": [
    "##### Save the geodataframe into shapefile which has a unique number (the YKR_ID)"
   ]
  },
  {
   "cell_type": "code",
   "execution_count": null,
   "metadata": {},
   "outputs": [],
   "source": []
  },
  {
   "cell_type": "code",
   "execution_count": null,
   "metadata": {},
   "outputs": [],
   "source": [
    " for idx, fp in enumerate(fp_list):\n",
    "        #print(fp)\n",
    "        '''if the filepath exists in the filepaths list over files in the folder, create this into a dataframe'''\n",
    "        #if fp is in filepaths:\n",
    "        \n",
    "        data_ = pd.read_csv(fp, sep=';') #usecols = ['from_id', 'pt_r_t'])\n",
    "        #print(data.head())\n",
    "        '''if not, print that the the filepath does not exist in the folder'''\n",
    "        #else:\n",
    "        #print('This YKR_ID does not exist in folder')    \n",
    "        \n",
    "        print(data_.head())"
   ]
  }
 ],
 "metadata": {
  "kernelspec": {
   "display_name": "Python 3",
   "language": "python",
   "name": "python3"
  },
  "language_info": {
   "codemirror_mode": {
    "name": "ipython",
    "version": 3
   },
   "file_extension": ".py",
   "mimetype": "text/x-python",
   "name": "python",
   "nbconvert_exporter": "python",
   "pygments_lexer": "ipython3",
   "version": "3.6.5"
  }
 },
 "nbformat": 4,
 "nbformat_minor": 2
}
