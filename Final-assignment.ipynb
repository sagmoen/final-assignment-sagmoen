{
 "cells": [
  {
   "cell_type": "markdown",
   "metadata": {},
   "source": [
    "## Final Assignment "
   ]
  },
  {
   "cell_type": "markdown",
   "metadata": {},
   "source": [
    "#### Part 1 and 2\n",
    "1. The first part of AccessViz finds the from the data/TravelTimes folder the traveltimes-text files the user specifies with by YKR_ID in the YKR_ID_list in the start of the code.\n",
    "\n",
    "2. After finding the specified traveltimes-txt files, this code reads the files and stores them into a folder data/shapefiles. The shapefiles are named the YKR_ID of the file. (eg. 5878087.shp)\n"
   ]
  },
  {
   "cell_type": "code",
   "execution_count": 1,
   "metadata": {},
   "outputs": [
    {
     "data": {
      "text/html": [
       "<div>\n",
       "<style scoped>\n",
       "    .dataframe tbody tr th:only-of-type {\n",
       "        vertical-align: middle;\n",
       "    }\n",
       "\n",
       "    .dataframe tbody tr th {\n",
       "        vertical-align: top;\n",
       "    }\n",
       "\n",
       "    .dataframe thead th {\n",
       "        text-align: right;\n",
       "    }\n",
       "</style>\n",
       "<table border=\"1\" class=\"dataframe\">\n",
       "  <thead>\n",
       "    <tr style=\"text-align: right;\">\n",
       "      <th></th>\n",
       "      <th>x</th>\n",
       "      <th>y</th>\n",
       "      <th>from_id</th>\n",
       "      <th>geometry</th>\n",
       "    </tr>\n",
       "  </thead>\n",
       "  <tbody>\n",
       "    <tr>\n",
       "      <th>0</th>\n",
       "      <td>381875.0</td>\n",
       "      <td>6697880.0</td>\n",
       "      <td>5785640</td>\n",
       "      <td>POLYGON ((382000.0001388059 6697750.000128186,...</td>\n",
       "    </tr>\n",
       "    <tr>\n",
       "      <th>1</th>\n",
       "      <td>382125.0</td>\n",
       "      <td>6697880.0</td>\n",
       "      <td>5785641</td>\n",
       "      <td>POLYGON ((382250.00013875 6697750.000128181, 3...</td>\n",
       "    </tr>\n",
       "    <tr>\n",
       "      <th>2</th>\n",
       "      <td>382375.0</td>\n",
       "      <td>6697880.0</td>\n",
       "      <td>5785642</td>\n",
       "      <td>POLYGON ((382500.0001386951 6697750.000128172,...</td>\n",
       "    </tr>\n",
       "    <tr>\n",
       "      <th>3</th>\n",
       "      <td>382625.0</td>\n",
       "      <td>6697880.0</td>\n",
       "      <td>5785643</td>\n",
       "      <td>POLYGON ((382750.0001386406 6697750.000128165,...</td>\n",
       "    </tr>\n",
       "    <tr>\n",
       "      <th>4</th>\n",
       "      <td>381125.0</td>\n",
       "      <td>6697630.0</td>\n",
       "      <td>5787544</td>\n",
       "      <td>POLYGON ((381250.000138978 6697500.000128254, ...</td>\n",
       "    </tr>\n",
       "  </tbody>\n",
       "</table>\n",
       "</div>"
      ],
      "text/plain": [
       "          x          y  from_id  \\\n",
       "0  381875.0  6697880.0  5785640   \n",
       "1  382125.0  6697880.0  5785641   \n",
       "2  382375.0  6697880.0  5785642   \n",
       "3  382625.0  6697880.0  5785643   \n",
       "4  381125.0  6697630.0  5787544   \n",
       "\n",
       "                                            geometry  \n",
       "0  POLYGON ((382000.0001388059 6697750.000128186,...  \n",
       "1  POLYGON ((382250.00013875 6697750.000128181, 3...  \n",
       "2  POLYGON ((382500.0001386951 6697750.000128172,...  \n",
       "3  POLYGON ((382750.0001386406 6697750.000128165,...  \n",
       "4  POLYGON ((381250.000138978 6697500.000128254, ...  "
      ]
     },
     "execution_count": 1,
     "metadata": {},
     "output_type": "execute_result"
    }
   ],
   "source": [
    "import geopandas as gpd\n",
    "import pandas as pd\n",
    "import os\n",
    "\n",
    "#read and take a look at the YKR_grid shp file \n",
    "grid_fp = 'data/MetropAccess_YKR_grid/MetropAccess_YKR_grid_EurefFIN.shp'\n",
    "\n",
    "#read the file\n",
    "grid = gpd.read_file(grid_fp)\n",
    "\n",
    "# Change the name of YKR_ID to from_id, to enable the join\n",
    "grid.rename(columns={'YKR_ID': 'from_id'}, inplace=True)\n",
    "\n",
    "# See the column names and confirm that we now have a column called 'from_id'\n",
    "grid.head()\n",
    "#grid.crs"
   ]
  },
  {
   "cell_type": "markdown",
   "metadata": {},
   "source": [
    "1. This first part of the code finds all the textfiles in the data/TravelTime folder, and then store each of the traveltime modes into a shapefile named the YKR_ID number of the file. <br />\n",
    "\n",
    "2. The user has to specify which YKR_IDs she/he wants to use in YKR_ID, where it says \"specify YKR_IDs here!\"<br />\n",
    "\n",
    "3. The rest of the code reads in the .txt-files to pandad dataframe, converst it into a geopandas dataframe and stores each of the geodataframes into shapefiles called the YKR_ID number of the text file. \n",
    "\n",
    "4. I tried to write the code in a way that would say if the YKR_ID did not exist in the data/TravelTime-folder. My code would not work when I tried that, so i decided to leave it out, in order to make the code work. At the bottom of this markadown cell is the code I used for trying. I am pretty sure that the error is in how I coded the 'if'-statement, and I tried different ways, but non of the worked.\n",
    "\n",
    "5. I also did not manage to write my code in a way that would inform the user about how the progression in the reading of files is going.\n",
    "\n",
    "```\n",
    "for YKR_ID in YKR_IDs: \n",
    "    #create path where the file is found\n",
    "    path = ('data/TravelTimes/travel_times_to_')\n",
    "    #create empty list where the filepath coresponding to YKR_ID-list can be stored.\n",
    "    fp_list = []\n",
    "    #create filepaths\n",
    "    filepath = os.path.join(path + YKR_ID + '.txt')\n",
    "    #append filepaths to the fp_list.\n",
    "    fp_list.append(filepath)\n",
    "    #print(fp_list)\n",
    "    ```\n",
    "```        \n",
    "    #iterate over the filepaths stored in the fp_list\n",
    "    for idx, fp in enumerate(fp_list):\n",
    "        print(fp) \n",
    "    ```\n",
    "\n",
    "```\n",
    "'''if filepath does not exist in folder, print that the the filepath does not exist in the folder'''\n",
    "        if fp is not in filepaths:\n",
    "             print('This YKR_ID does not exist in folder')\n",
    "             ```\n",
    "```                \n",
    "'''if the filepath exists in the filepaths list over files in the folder, create this into a dataframe'''\n",
    "        else:\n",
    "        data_ = pd.read_csv(fp, sep=';', usecols = ['from_id', 'pt_r_t'])\n",
    "        print(data_.head())\n",
    "```"
   ]
  },
  {
   "cell_type": "code",
   "execution_count": 2,
   "metadata": {},
   "outputs": [],
   "source": [
    "#specify YKR_IDs here!\n",
    "YKR_ID_list = ['5975373', '5878087']"
   ]
  },
  {
   "cell_type": "code",
   "execution_count": 3,
   "metadata": {},
   "outputs": [],
   "source": [
    "import glob\n",
    "import os\n",
    "import geopandas as gpd\n",
    "import pandas as pd\n",
    "\n",
    "#find all txt files in data/TravelTimes folder\n",
    "all_filepaths = glob.glob('data/TravelTimes/*.txt')\n",
    "#print(filepaths)\n",
    "\n",
    "#list of YKR_IDs I want to import: \n",
    "YKR_IDs = YKR_ID_list\n",
    "\n",
    "#Find filepaths for files specified in YKR_IDs \n",
    "for YKR_ID in YKR_IDs: \n",
    "    #create path where the file is found\n",
    "    path = ('data/TravelTimes/travel_times_to_')\n",
    "    #create empty list where the filepath coresponding to YKR_ID-list can be stored.\n",
    "    fp_list = []\n",
    "    #create filepaths\n",
    "    filepath = os.path.join(path + YKR_ID + '.txt')\n",
    "    #append filepaths to the fp_list.\n",
    "    fp_list.append(filepath)\n",
    "    #print(fp_list)"
   ]
  },
  {
   "cell_type": "code",
   "execution_count": null,
   "metadata": {},
   "outputs": [],
   "source": [
    "    #iterate over the filepaths stored in the fp_list\n",
    "    for idx, fp in enumerate(fp_list):\n",
    "        #print(fp)\n",
    "        \n",
    "        #read the data to dataframe\n",
    "        data_ = pd.read_csv(fp, sep=';')\n",
    "        #print(data_.head())\n",
    "        \n",
    "        #merge data_ (pd) and grid(gpd) together on 'from_id'  \n",
    "        data = grid.merge(data_, on='from_id')\n",
    "        #data.head()\n",
    "   \n",
    "        #set CRS\n",
    "        CRS = grid.crs\n",
    "\n",
    "        #make in into a geodataframe\n",
    "        travel_times = gpd.GeoDataFrame(data, crs=CRS, geometry ='geometry')\n",
    "        \n",
    "        #check the output\n",
    "        print(travel_times.head())  \n",
    "        \n",
    "        #save the geodataframes into shapefiles called the YKR_ID.shp in the folder shapefiles in data folder.\n",
    "        for travel_time in travel_times.iterrows():\n",
    "            #print(travel_time)\n",
    "            # Create a output path for the data\n",
    "            out_p = ('data/shapefiles/') \n",
    "            out_fp = os.path.join(out_p + YKR_ID + '.shp')\n",
    "            travel_times.to_file(out_fp)"
   ]
  },
  {
   "cell_type": "markdown",
   "metadata": {},
   "source": [
    "#### PART 3: \n",
    "visualize the travel times of selected YKR_IDs based on the travel mode that the user specifies. It can save those maps into a folder that user specifies. The output maps can be either static or interactive and user can choose which one with a parameter. You can freely design yourself the style of the map, colors, travel time intervals (classes) etc. Try to make the map as informative as possible!\n"
   ]
  },
  {
   "cell_type": "markdown",
   "metadata": {},
   "source": [
    "The user also has to specify which TravelTime column she/he wants to use, where it says \"specify traveltime mode here\". Or else the 'pt_r_t'(public transport, rushour, time) will be used by default. <br />"
   ]
  },
  {
   "cell_type": "code",
   "execution_count": 5,
   "metadata": {},
   "outputs": [
    {
     "name": "stdout",
     "output_type": "stream",
     "text": [
      "['data/shapefiles/5975373.shp', 'data/shapefiles/5878087.shp']\n"
     ]
    },
    {
     "name": "stderr",
     "output_type": "stream",
     "text": [
      "/opt/conda/lib/python3.6/site-packages/scipy/stats/stats.py:1713: FutureWarning: Using a non-tuple sequence for multidimensional indexing is deprecated; use `arr[tuple(seq)]` instead of `arr[seq]`. In the future this will be interpreted as an array index, `arr[np.array(seq)]`, which will result either in an error or a different result.\n",
      "  return np.add.reduce(sorted[indexer] * weights, axis=axis) / sumval\n"
     ]
    },
    {
     "data": {
      "image/png": "[encoded data removed]",
      "text/plain": [
       "<Figure size 432x288 with 1 Axes>"
      ]
     },
     "metadata": {},
     "output_type": "display_data"
    },
    {
     "data": {
      "image/png": "[encoded data removed]",
      "text/plain": [
       "<Figure size 432x288 with 1 Axes>"
      ]
     },
     "metadata": {},
     "output_type": "display_data"
    }
   ],
   "source": [
    "import glob\n",
    "import os\n",
    "import geopandas as gpd\n",
    "import pandas as pd\n",
    "import matplotlib.pyplot as plt\n",
    "%matplotlib inline\n",
    "\n",
    "shp_files = glob.glob('data/shapefiles/*.shp')\n",
    "print(shp_files)\n",
    "\n",
    "#SPECIFY COLUMN YOU WOULD LIKE TO SPECIFY HERE\n",
    "column_for_visualising = \"pt_r_t\"\n",
    "\n",
    "for idx, fp in enumerate(shp_files):\n",
    "    #print(fp)\n",
    "    shp_data = gpd.read_file(fp)\n",
    "    #print(shp_data.head())\n",
    "    \n",
    "    #create map using matplotlib.plt\n",
    "    my_map = shp_data.plot(column=column_for_visualising, linewidth=0.03, cmap=\"Reds\", scheme=\"quantiles\", k=9, alpha=0.9)\n",
    "    \n",
    "    # Save the figure as png file with resolution of 300 dpi\n",
    "    out_p_m = ('data/static_maps/')     \n",
    "    out_fp_m = os.path.join(out_p_m + YKR_ID + '.png')\n",
    "    plt.savefig(out_fp_m, dpi=300)\n"
   ]
  },
  {
   "cell_type": "code",
   "execution_count": null,
   "metadata": {},
   "outputs": [],
   "source": []
  }
 ],
 "metadata": {
  "kernelspec": {
   "display_name": "Python 3",
   "language": "python",
   "name": "python3"
  },
  "language_info": {
   "codemirror_mode": {
    "name": "ipython",
    "version": 3
   },
   "file_extension": ".py",
   "mimetype": "text/x-python",
   "name": "python",
   "nbconvert_exporter": "python",
   "pygments_lexer": "ipython3",
   "version": "3.6.5"
  }
 },
 "nbformat": 4,
 "nbformat_minor": 2
}
