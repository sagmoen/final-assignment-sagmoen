{
 "cells": [
  {
   "cell_type": "code",
   "execution_count": null,
   "metadata": {},
   "outputs": [],
   "source": [
    "import geopandas as gpd\n",
    "import pandas as pd\n",
    "import os\n",
    "\n",
    "#read and take a look at the YKR_grid shp file \n",
    "grid_fp = 'data/MetropAccess_YKR_grid/MetropAccess_YKR_grid_EurefFIN.shp'\n",
    "\n",
    "#read the file\n",
    "grid = gpd.read_file(grid_fp)\n",
    "\n",
    "# See the column names and confirm that we now have a column called 'from_id'\n",
    "grid.head()\n",
    "#grid.crs"
   ]
  },
  {
   "cell_type": "code",
   "execution_count": null,
   "metadata": {},
   "outputs": [],
   "source": [
    "\n",
    "\n",
    "#read and take a look at the YKR_grid shp file \n",
    "grid_fp = 'data/MetropAccess_YKR_grid/MetropAccess_YKR_grid_EurefFIN.shp'\n",
    "\n",
    "#read the file\n",
    "grid = gpd.read_file(grid_fp)\n",
    "\n",
    "# See the column names and confirm that we now have a column called 'from_id'\n",
    "grid.head()\n",
    "#grid.crs"
   ]
  },
  {
   "cell_type": "markdown",
   "metadata": {},
   "source": [
    "##### Part 5 \n",
    "Bundled with AccessViz there is also a separate interactive map that shows the YKR grid values in Helsinki region. The purpose of the map is to help the user to choose the YKR-IDs that s/he is interested to visualize / analyze."
   ]
  },
  {
   "cell_type": "code",
   "execution_count": null,
   "metadata": {},
   "outputs": [],
   "source": [
    "# Re-project to WGS84\n",
    "grid = grid.to_crs(epsg=4326)\n",
    "\n",
    "# Check layer crs definition\n",
    "print(grid.crs)\n",
    "\n",
    "# Make a selection (only data above 0 and below 1000)\n",
    "\n",
    "# Create a Geo-id which is needed by the Folium (it needs to have a unique identifier for each row)\n",
    "grid['geoid'] = data.index.astype(str)\n",
    "\n",
    "# Select only needed columns\n",
    "grid = grid[['geoid', 'YKR_ID', 'geometry']]\n",
    "\n",
    "# Convert to geojson (not needed for the simple coropleth map!)\n",
    "#YKRID_json = grid.to_json()\n",
    "\n",
    "#check data\n",
    "grid.head()"
   ]
  },
  {
   "cell_type": "code",
   "execution_count": null,
   "metadata": {},
   "outputs": [],
   "source": [
    "import folium\n",
    "from folium.plugins import MousePosition\n",
    "\n",
    "# Create a Map instance\n",
    "YKRID_map = folium.Map(location=[60.25, 24.8], tiles = 'cartodbpositron', zoom_start=10, control_scale=True)\n",
    "\n",
    "folium.MousePosition(position='bottomright', separator=' : ', empty_string='Unavailable', lng_first=False, num_digits=5, prefix='', lat_formatter=None, lng_formatter=None)\n"
   ]
  },
  {
   "cell_type": "code",
   "execution_count": null,
   "metadata": {},
   "outputs": [],
   "source": [
    "# Plot a choropleth map\n",
    "YKRID_map.choropleth(\n",
    "    geo_data=grid,\n",
    "    name='Population in 2017',\n",
    "    data=grid,\n",
    "    columns=['geoid', 'YKR_ID'],\n",
    "    key_on='feature.id',\n",
    "    fill_color='YlOrRd',\n",
    "    fill_opacity=0.7,\n",
    "    line_opacity=0.2,\n",
    "    line_color='white',\n",
    "    line_weight=0,\n",
    "    highlight=False,\n",
    "    smooth_factor=1.0,\n",
    "    #threshold_scale=[100, 250, 500, 1000, 2000],\n",
    "    legend_name= 'YKR_ID cells, Helsinki')\n",
    "\n",
    "#saving the map\n",
    "out_YKRID_map_fp = \"data/maps/YKR_ID_cells_Helsinki.html\"\n",
    "YKRID_map.save(out_YKRID_map_fp)\n",
    "\n",
    "#Show map\n",
    "YKRID_map"
   ]
  }
 ],
 "metadata": {
  "kernelspec": {
   "display_name": "Python 3",
   "language": "python",
   "name": "python3"
  },
  "language_info": {
   "codemirror_mode": {
    "name": "ipython",
    "version": 3
   },
   "file_extension": ".py",
   "mimetype": "text/x-python",
   "name": "python",
   "nbconvert_exporter": "python",
   "pygments_lexer": "ipython3",
   "version": "3.6.5"
  }
 },
 "nbformat": 4,
 "nbformat_minor": 2
}
